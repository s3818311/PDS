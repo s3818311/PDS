{
 "cells": [
  {
   "cell_type": "code",
   "execution_count": 1,
   "metadata": {},
   "outputs": [],
   "source": [
    "# imports\n",
    "import pandas as pd\n",
    "import datetime as dt\n",
    "import warnings\n",
    "import matplotlib.pyplot as plt\n",
    "from matplotlib import cm\n",
    "import numpy as np"
   ]
  },
  {
   "cell_type": "code",
   "execution_count": 2,
   "metadata": {},
   "outputs": [],
   "source": [
    "# importing custom helper function for later\n",
    "%run -i \"tz_imputation.py\""
   ]
  },
  {
   "cell_type": "markdown",
   "metadata": {},
   "source": [
    "# Task 1.1: Data Preparation"
   ]
  },
  {
   "cell_type": "code",
   "execution_count": 3,
   "metadata": {},
   "outputs": [],
   "source": [
    "# loading csvs\n",
    "test_df = pd.read_csv(\"data/test.csv\")\n",
    "train_df = pd.read_csv(\"data/train.csv\")\n",
    "val_df = pd.read_csv(\"data/val.csv\")"
   ]
  },
  {
   "cell_type": "code",
   "execution_count": 4,
   "metadata": {},
   "outputs": [
    {
     "data": {
      "text/html": [
       "<div>\n",
       "<style scoped>\n",
       "    .dataframe tbody tr th:only-of-type {\n",
       "        vertical-align: middle;\n",
       "    }\n",
       "\n",
       "    .dataframe tbody tr th {\n",
       "        vertical-align: top;\n",
       "    }\n",
       "\n",
       "    .dataframe thead th {\n",
       "        text-align: right;\n",
       "    }\n",
       "</style>\n",
       "<table border=\"1\" class=\"dataframe\">\n",
       "  <thead>\n",
       "    <tr style=\"text-align: right;\">\n",
       "      <th></th>\n",
       "      <th>ID</th>\n",
       "      <th>Start_Time</th>\n",
       "      <th>End_Time</th>\n",
       "      <th>Start_Lat</th>\n",
       "      <th>Start_Lng</th>\n",
       "      <th>End_Lat</th>\n",
       "      <th>End_Lng</th>\n",
       "      <th>Distance(mi)</th>\n",
       "      <th>Number</th>\n",
       "      <th>Street</th>\n",
       "      <th>...</th>\n",
       "      <th>Roundabout</th>\n",
       "      <th>Station</th>\n",
       "      <th>Stop</th>\n",
       "      <th>Traffic_Calming</th>\n",
       "      <th>Traffic_Signal</th>\n",
       "      <th>Turning_Loop</th>\n",
       "      <th>Sunrise_Sunset</th>\n",
       "      <th>Civil_Twilight</th>\n",
       "      <th>Nautical_Twilight</th>\n",
       "      <th>Astronomical_Twilight</th>\n",
       "    </tr>\n",
       "  </thead>\n",
       "  <tbody>\n",
       "    <tr>\n",
       "      <th>0</th>\n",
       "      <td>A-3056781</td>\n",
       "      <td>2020-12-15 18:06:30</td>\n",
       "      <td>2020-12-16 03:35:30</td>\n",
       "      <td>33.708096</td>\n",
       "      <td>-117.780277</td>\n",
       "      <td>33.733073</td>\n",
       "      <td>-117.814465</td>\n",
       "      <td>2.615</td>\n",
       "      <td>NaN</td>\n",
       "      <td>I-5 N</td>\n",
       "      <td>...</td>\n",
       "      <td>False</td>\n",
       "      <td>False</td>\n",
       "      <td>False</td>\n",
       "      <td>False</td>\n",
       "      <td>False</td>\n",
       "      <td>False</td>\n",
       "      <td>Night</td>\n",
       "      <td>Night</td>\n",
       "      <td>Night</td>\n",
       "      <td>Day</td>\n",
       "    </tr>\n",
       "    <tr>\n",
       "      <th>1</th>\n",
       "      <td>A-3861069</td>\n",
       "      <td>2019-09-25 17:57:00</td>\n",
       "      <td>2019-09-25 19:18:45</td>\n",
       "      <td>37.660428</td>\n",
       "      <td>-122.403812</td>\n",
       "      <td>37.660428</td>\n",
       "      <td>-122.403812</td>\n",
       "      <td>0.000</td>\n",
       "      <td>NaN</td>\n",
       "      <td>Bayshore Fwy N</td>\n",
       "      <td>...</td>\n",
       "      <td>False</td>\n",
       "      <td>True</td>\n",
       "      <td>False</td>\n",
       "      <td>False</td>\n",
       "      <td>False</td>\n",
       "      <td>False</td>\n",
       "      <td>Day</td>\n",
       "      <td>Day</td>\n",
       "      <td>Day</td>\n",
       "      <td>Day</td>\n",
       "    </tr>\n",
       "    <tr>\n",
       "      <th>2</th>\n",
       "      <td>A-3283070</td>\n",
       "      <td>2020-11-06 18:57:10</td>\n",
       "      <td>2020-11-06 21:32:23</td>\n",
       "      <td>45.647664</td>\n",
       "      <td>-111.351367</td>\n",
       "      <td>45.648531</td>\n",
       "      <td>-111.351319</td>\n",
       "      <td>0.060</td>\n",
       "      <td>NaN</td>\n",
       "      <td>Axtell Anceny Rd</td>\n",
       "      <td>...</td>\n",
       "      <td>False</td>\n",
       "      <td>False</td>\n",
       "      <td>False</td>\n",
       "      <td>False</td>\n",
       "      <td>False</td>\n",
       "      <td>False</td>\n",
       "      <td>Night</td>\n",
       "      <td>Night</td>\n",
       "      <td>Night</td>\n",
       "      <td>Night</td>\n",
       "    </tr>\n",
       "    <tr>\n",
       "      <th>3</th>\n",
       "      <td>A-3207908</td>\n",
       "      <td>2020-11-02 14:25:39</td>\n",
       "      <td>2020-11-02 16:25:42</td>\n",
       "      <td>40.207033</td>\n",
       "      <td>-76.219940</td>\n",
       "      <td>40.210121</td>\n",
       "      <td>-76.220782</td>\n",
       "      <td>0.218</td>\n",
       "      <td>1.0</td>\n",
       "      <td>Wood Corner Rd</td>\n",
       "      <td>...</td>\n",
       "      <td>False</td>\n",
       "      <td>False</td>\n",
       "      <td>False</td>\n",
       "      <td>False</td>\n",
       "      <td>False</td>\n",
       "      <td>False</td>\n",
       "      <td>Day</td>\n",
       "      <td>Day</td>\n",
       "      <td>Day</td>\n",
       "      <td>Day</td>\n",
       "    </tr>\n",
       "    <tr>\n",
       "      <th>4</th>\n",
       "      <td>A-4128825</td>\n",
       "      <td>2017-10-03 09:07:42</td>\n",
       "      <td>2017-10-03 15:07:42</td>\n",
       "      <td>29.814050</td>\n",
       "      <td>-95.360610</td>\n",
       "      <td>29.814020</td>\n",
       "      <td>-95.366040</td>\n",
       "      <td>0.326</td>\n",
       "      <td>NaN</td>\n",
       "      <td>I-610 W</td>\n",
       "      <td>...</td>\n",
       "      <td>False</td>\n",
       "      <td>False</td>\n",
       "      <td>False</td>\n",
       "      <td>False</td>\n",
       "      <td>False</td>\n",
       "      <td>False</td>\n",
       "      <td>Day</td>\n",
       "      <td>Day</td>\n",
       "      <td>Day</td>\n",
       "      <td>Day</td>\n",
       "    </tr>\n",
       "  </tbody>\n",
       "</table>\n",
       "<p>5 rows × 45 columns</p>\n",
       "</div>"
      ],
      "text/plain": [
       "          ID           Start_Time             End_Time  Start_Lat   Start_Lng  \\\n",
       "0  A-3056781  2020-12-15 18:06:30  2020-12-16 03:35:30  33.708096 -117.780277   \n",
       "1  A-3861069  2019-09-25 17:57:00  2019-09-25 19:18:45  37.660428 -122.403812   \n",
       "2  A-3283070  2020-11-06 18:57:10  2020-11-06 21:32:23  45.647664 -111.351367   \n",
       "3  A-3207908  2020-11-02 14:25:39  2020-11-02 16:25:42  40.207033  -76.219940   \n",
       "4  A-4128825  2017-10-03 09:07:42  2017-10-03 15:07:42  29.814050  -95.360610   \n",
       "\n",
       "     End_Lat     End_Lng  Distance(mi)  Number            Street  ...  \\\n",
       "0  33.733073 -117.814465         2.615     NaN             I-5 N  ...   \n",
       "1  37.660428 -122.403812         0.000     NaN    Bayshore Fwy N  ...   \n",
       "2  45.648531 -111.351319         0.060     NaN  Axtell Anceny Rd  ...   \n",
       "3  40.210121  -76.220782         0.218     1.0    Wood Corner Rd  ...   \n",
       "4  29.814020  -95.366040         0.326     NaN           I-610 W  ...   \n",
       "\n",
       "  Roundabout Station   Stop Traffic_Calming Traffic_Signal Turning_Loop  \\\n",
       "0      False   False  False           False          False        False   \n",
       "1      False    True  False           False          False        False   \n",
       "2      False   False  False           False          False        False   \n",
       "3      False   False  False           False          False        False   \n",
       "4      False   False  False           False          False        False   \n",
       "\n",
       "  Sunrise_Sunset Civil_Twilight Nautical_Twilight  Astronomical_Twilight  \n",
       "0          Night          Night             Night                    Day  \n",
       "1            Day            Day               Day                    Day  \n",
       "2          Night          Night             Night                  Night  \n",
       "3            Day            Day               Day                    Day  \n",
       "4            Day            Day               Day                    Day  \n",
       "\n",
       "[5 rows x 45 columns]"
      ]
     },
     "execution_count": 4,
     "metadata": {},
     "output_type": "execute_result"
    }
   ],
   "source": [
    "# quick check on the dataframe\n",
    "test_df.head()"
   ]
  },
  {
   "cell_type": "code",
   "execution_count": 5,
   "metadata": {},
   "outputs": [
    {
     "data": {
      "text/html": [
       "<div>\n",
       "<style scoped>\n",
       "    .dataframe tbody tr th:only-of-type {\n",
       "        vertical-align: middle;\n",
       "    }\n",
       "\n",
       "    .dataframe tbody tr th {\n",
       "        vertical-align: top;\n",
       "    }\n",
       "\n",
       "    .dataframe thead th {\n",
       "        text-align: right;\n",
       "    }\n",
       "</style>\n",
       "<table border=\"1\" class=\"dataframe\">\n",
       "  <thead>\n",
       "    <tr style=\"text-align: right;\">\n",
       "      <th></th>\n",
       "      <th>count</th>\n",
       "      <th>mean</th>\n",
       "      <th>std</th>\n",
       "      <th>min</th>\n",
       "      <th>25%</th>\n",
       "      <th>50%</th>\n",
       "      <th>75%</th>\n",
       "      <th>max</th>\n",
       "    </tr>\n",
       "  </thead>\n",
       "  <tbody>\n",
       "    <tr>\n",
       "      <th>Start_Lat</th>\n",
       "      <td>151607.0</td>\n",
       "      <td>36.934057</td>\n",
       "      <td>5.157855</td>\n",
       "      <td>24.571536</td>\n",
       "      <td>33.863220</td>\n",
       "      <td>37.398720</td>\n",
       "      <td>40.732995</td>\n",
       "      <td>48.966338</td>\n",
       "    </tr>\n",
       "    <tr>\n",
       "      <th>Start_Lng</th>\n",
       "      <td>151607.0</td>\n",
       "      <td>-98.627880</td>\n",
       "      <td>18.530823</td>\n",
       "      <td>-124.497523</td>\n",
       "      <td>-118.214389</td>\n",
       "      <td>-94.409678</td>\n",
       "      <td>-80.861295</td>\n",
       "      <td>-67.614387</td>\n",
       "    </tr>\n",
       "    <tr>\n",
       "      <th>End_Lat</th>\n",
       "      <td>151607.0</td>\n",
       "      <td>36.934102</td>\n",
       "      <td>5.157750</td>\n",
       "      <td>24.571534</td>\n",
       "      <td>33.862350</td>\n",
       "      <td>37.398860</td>\n",
       "      <td>40.733250</td>\n",
       "      <td>48.966444</td>\n",
       "    </tr>\n",
       "    <tr>\n",
       "      <th>End_Lng</th>\n",
       "      <td>151607.0</td>\n",
       "      <td>-98.627790</td>\n",
       "      <td>18.530730</td>\n",
       "      <td>-124.497442</td>\n",
       "      <td>-118.214270</td>\n",
       "      <td>-94.407950</td>\n",
       "      <td>-80.861294</td>\n",
       "      <td>-67.620340</td>\n",
       "    </tr>\n",
       "    <tr>\n",
       "      <th>Distance(mi)</th>\n",
       "      <td>151607.0</td>\n",
       "      <td>0.579563</td>\n",
       "      <td>1.655603</td>\n",
       "      <td>0.000000</td>\n",
       "      <td>0.000000</td>\n",
       "      <td>0.175000</td>\n",
       "      <td>0.588000</td>\n",
       "      <td>152.543000</td>\n",
       "    </tr>\n",
       "    <tr>\n",
       "      <th>Number</th>\n",
       "      <td>47082.0</td>\n",
       "      <td>9027.147466</td>\n",
       "      <td>18236.423389</td>\n",
       "      <td>0.000000</td>\n",
       "      <td>1210.250000</td>\n",
       "      <td>4000.000000</td>\n",
       "      <td>10198.750000</td>\n",
       "      <td>850900.000000</td>\n",
       "    </tr>\n",
       "    <tr>\n",
       "      <th>Temperature(F)</th>\n",
       "      <td>147262.0</td>\n",
       "      <td>59.603283</td>\n",
       "      <td>18.253417</td>\n",
       "      <td>-26.000000</td>\n",
       "      <td>48.000000</td>\n",
       "      <td>61.000000</td>\n",
       "      <td>73.000000</td>\n",
       "      <td>129.200000</td>\n",
       "    </tr>\n",
       "    <tr>\n",
       "      <th>Wind_Chill(F)</th>\n",
       "      <td>106699.0</td>\n",
       "      <td>55.131328</td>\n",
       "      <td>21.126875</td>\n",
       "      <td>-53.500000</td>\n",
       "      <td>41.000000</td>\n",
       "      <td>57.000000</td>\n",
       "      <td>71.000000</td>\n",
       "      <td>110.000000</td>\n",
       "    </tr>\n",
       "    <tr>\n",
       "      <th>Humidity(%)</th>\n",
       "      <td>147023.0</td>\n",
       "      <td>64.671004</td>\n",
       "      <td>23.231855</td>\n",
       "      <td>1.000000</td>\n",
       "      <td>48.000000</td>\n",
       "      <td>67.000000</td>\n",
       "      <td>84.000000</td>\n",
       "      <td>100.000000</td>\n",
       "    </tr>\n",
       "    <tr>\n",
       "      <th>Pressure(in)</th>\n",
       "      <td>147969.0</td>\n",
       "      <td>29.555832</td>\n",
       "      <td>1.013628</td>\n",
       "      <td>19.910000</td>\n",
       "      <td>29.440000</td>\n",
       "      <td>29.880000</td>\n",
       "      <td>30.040000</td>\n",
       "      <td>57.740000</td>\n",
       "    </tr>\n",
       "    <tr>\n",
       "      <th>Visibility(mi)</th>\n",
       "      <td>147151.0</td>\n",
       "      <td>9.138703</td>\n",
       "      <td>2.898579</td>\n",
       "      <td>0.000000</td>\n",
       "      <td>10.000000</td>\n",
       "      <td>10.000000</td>\n",
       "      <td>10.000000</td>\n",
       "      <td>110.000000</td>\n",
       "    </tr>\n",
       "    <tr>\n",
       "      <th>Wind_Speed(mph)</th>\n",
       "      <td>138712.0</td>\n",
       "      <td>7.653023</td>\n",
       "      <td>5.897449</td>\n",
       "      <td>0.000000</td>\n",
       "      <td>4.600000</td>\n",
       "      <td>7.000000</td>\n",
       "      <td>10.400000</td>\n",
       "      <td>822.800000</td>\n",
       "    </tr>\n",
       "    <tr>\n",
       "      <th>Precipitation(in)</th>\n",
       "      <td>100754.0</td>\n",
       "      <td>0.008781</td>\n",
       "      <td>0.148668</td>\n",
       "      <td>0.000000</td>\n",
       "      <td>0.000000</td>\n",
       "      <td>0.000000</td>\n",
       "      <td>0.000000</td>\n",
       "      <td>24.000000</td>\n",
       "    </tr>\n",
       "  </tbody>\n",
       "</table>\n",
       "</div>"
      ],
      "text/plain": [
       "                      count         mean           std         min  \\\n",
       "Start_Lat          151607.0    36.934057      5.157855   24.571536   \n",
       "Start_Lng          151607.0   -98.627880     18.530823 -124.497523   \n",
       "End_Lat            151607.0    36.934102      5.157750   24.571534   \n",
       "End_Lng            151607.0   -98.627790     18.530730 -124.497442   \n",
       "Distance(mi)       151607.0     0.579563      1.655603    0.000000   \n",
       "Number              47082.0  9027.147466  18236.423389    0.000000   \n",
       "Temperature(F)     147262.0    59.603283     18.253417  -26.000000   \n",
       "Wind_Chill(F)      106699.0    55.131328     21.126875  -53.500000   \n",
       "Humidity(%)        147023.0    64.671004     23.231855    1.000000   \n",
       "Pressure(in)       147969.0    29.555832      1.013628   19.910000   \n",
       "Visibility(mi)     147151.0     9.138703      2.898579    0.000000   \n",
       "Wind_Speed(mph)    138712.0     7.653023      5.897449    0.000000   \n",
       "Precipitation(in)  100754.0     0.008781      0.148668    0.000000   \n",
       "\n",
       "                           25%          50%           75%            max  \n",
       "Start_Lat            33.863220    37.398720     40.732995      48.966338  \n",
       "Start_Lng          -118.214389   -94.409678    -80.861295     -67.614387  \n",
       "End_Lat              33.862350    37.398860     40.733250      48.966444  \n",
       "End_Lng            -118.214270   -94.407950    -80.861294     -67.620340  \n",
       "Distance(mi)          0.000000     0.175000      0.588000     152.543000  \n",
       "Number             1210.250000  4000.000000  10198.750000  850900.000000  \n",
       "Temperature(F)       48.000000    61.000000     73.000000     129.200000  \n",
       "Wind_Chill(F)        41.000000    57.000000     71.000000     110.000000  \n",
       "Humidity(%)          48.000000    67.000000     84.000000     100.000000  \n",
       "Pressure(in)         29.440000    29.880000     30.040000      57.740000  \n",
       "Visibility(mi)       10.000000    10.000000     10.000000     110.000000  \n",
       "Wind_Speed(mph)       4.600000     7.000000     10.400000     822.800000  \n",
       "Precipitation(in)     0.000000     0.000000      0.000000      24.000000  "
      ]
     },
     "execution_count": 5,
     "metadata": {},
     "output_type": "execute_result"
    }
   ],
   "source": [
    "# quick check on numerical values\n",
    "test_df.describe().T"
   ]
  },
  {
   "cell_type": "code",
   "execution_count": 6,
   "metadata": {},
   "outputs": [
    {
     "data": {
      "text/html": [
       "<div>\n",
       "<style scoped>\n",
       "    .dataframe tbody tr th:only-of-type {\n",
       "        vertical-align: middle;\n",
       "    }\n",
       "\n",
       "    .dataframe tbody tr th {\n",
       "        vertical-align: top;\n",
       "    }\n",
       "\n",
       "    .dataframe thead th {\n",
       "        text-align: right;\n",
       "    }\n",
       "</style>\n",
       "<table border=\"1\" class=\"dataframe\">\n",
       "  <thead>\n",
       "    <tr style=\"text-align: right;\">\n",
       "      <th></th>\n",
       "      <th>ID</th>\n",
       "      <th>Severity</th>\n",
       "      <th>Start_Time</th>\n",
       "      <th>End_Time</th>\n",
       "      <th>Start_Lat</th>\n",
       "      <th>Start_Lng</th>\n",
       "      <th>End_Lat</th>\n",
       "      <th>End_Lng</th>\n",
       "      <th>Distance(mi)</th>\n",
       "      <th>Number</th>\n",
       "      <th>...</th>\n",
       "      <th>Roundabout</th>\n",
       "      <th>Station</th>\n",
       "      <th>Stop</th>\n",
       "      <th>Traffic_Calming</th>\n",
       "      <th>Traffic_Signal</th>\n",
       "      <th>Turning_Loop</th>\n",
       "      <th>Sunrise_Sunset</th>\n",
       "      <th>Civil_Twilight</th>\n",
       "      <th>Nautical_Twilight</th>\n",
       "      <th>Astronomical_Twilight</th>\n",
       "    </tr>\n",
       "  </thead>\n",
       "  <tbody>\n",
       "    <tr>\n",
       "      <th>0</th>\n",
       "      <td>A-3145301</td>\n",
       "      <td>2</td>\n",
       "      <td>2020-12-17 13:56:30</td>\n",
       "      <td>2020-12-18 00:21:16</td>\n",
       "      <td>25.939703</td>\n",
       "      <td>-80.188672</td>\n",
       "      <td>25.941481</td>\n",
       "      <td>-80.190011</td>\n",
       "      <td>0.148</td>\n",
       "      <td>17909.0</td>\n",
       "      <td>...</td>\n",
       "      <td>False</td>\n",
       "      <td>False</td>\n",
       "      <td>False</td>\n",
       "      <td>False</td>\n",
       "      <td>False</td>\n",
       "      <td>False</td>\n",
       "      <td>Day</td>\n",
       "      <td>Day</td>\n",
       "      <td>Day</td>\n",
       "      <td>Day</td>\n",
       "    </tr>\n",
       "    <tr>\n",
       "      <th>1</th>\n",
       "      <td>A-2906919</td>\n",
       "      <td>4</td>\n",
       "      <td>2017-04-27 14:31:24</td>\n",
       "      <td>2017-04-27 20:31:24</td>\n",
       "      <td>43.197700</td>\n",
       "      <td>-89.324430</td>\n",
       "      <td>43.190950</td>\n",
       "      <td>-89.324640</td>\n",
       "      <td>0.467</td>\n",
       "      <td>NaN</td>\n",
       "      <td>...</td>\n",
       "      <td>False</td>\n",
       "      <td>False</td>\n",
       "      <td>False</td>\n",
       "      <td>False</td>\n",
       "      <td>False</td>\n",
       "      <td>False</td>\n",
       "      <td>Day</td>\n",
       "      <td>Day</td>\n",
       "      <td>Day</td>\n",
       "      <td>Day</td>\n",
       "    </tr>\n",
       "    <tr>\n",
       "      <th>2</th>\n",
       "      <td>A-3334868</td>\n",
       "      <td>2</td>\n",
       "      <td>2020-12-29 00:22:00</td>\n",
       "      <td>2020-12-29 02:00:37</td>\n",
       "      <td>33.928147</td>\n",
       "      <td>-117.880283</td>\n",
       "      <td>33.922082</td>\n",
       "      <td>-117.880314</td>\n",
       "      <td>0.419</td>\n",
       "      <td>NaN</td>\n",
       "      <td>...</td>\n",
       "      <td>False</td>\n",
       "      <td>False</td>\n",
       "      <td>False</td>\n",
       "      <td>False</td>\n",
       "      <td>False</td>\n",
       "      <td>False</td>\n",
       "      <td>Night</td>\n",
       "      <td>Night</td>\n",
       "      <td>Night</td>\n",
       "      <td>Night</td>\n",
       "    </tr>\n",
       "    <tr>\n",
       "      <th>3</th>\n",
       "      <td>A-3842156</td>\n",
       "      <td>2</td>\n",
       "      <td>2019-11-12 15:41:00</td>\n",
       "      <td>2019-11-12 17:29:58</td>\n",
       "      <td>40.717830</td>\n",
       "      <td>-111.953630</td>\n",
       "      <td>40.717830</td>\n",
       "      <td>-111.953630</td>\n",
       "      <td>0.000</td>\n",
       "      <td>NaN</td>\n",
       "      <td>...</td>\n",
       "      <td>False</td>\n",
       "      <td>False</td>\n",
       "      <td>False</td>\n",
       "      <td>False</td>\n",
       "      <td>False</td>\n",
       "      <td>False</td>\n",
       "      <td>Day</td>\n",
       "      <td>Day</td>\n",
       "      <td>Day</td>\n",
       "      <td>Day</td>\n",
       "    </tr>\n",
       "    <tr>\n",
       "      <th>4</th>\n",
       "      <td>A-3680462</td>\n",
       "      <td>2</td>\n",
       "      <td>2020-01-10 19:22:13</td>\n",
       "      <td>2020-01-10 23:22:13</td>\n",
       "      <td>44.008170</td>\n",
       "      <td>-123.725830</td>\n",
       "      <td>44.008170</td>\n",
       "      <td>-123.725830</td>\n",
       "      <td>0.000</td>\n",
       "      <td>15683.0</td>\n",
       "      <td>...</td>\n",
       "      <td>False</td>\n",
       "      <td>False</td>\n",
       "      <td>False</td>\n",
       "      <td>False</td>\n",
       "      <td>False</td>\n",
       "      <td>False</td>\n",
       "      <td>Night</td>\n",
       "      <td>Night</td>\n",
       "      <td>Night</td>\n",
       "      <td>Night</td>\n",
       "    </tr>\n",
       "  </tbody>\n",
       "</table>\n",
       "<p>5 rows × 46 columns</p>\n",
       "</div>"
      ],
      "text/plain": [
       "          ID  Severity           Start_Time             End_Time  Start_Lat  \\\n",
       "0  A-3145301         2  2020-12-17 13:56:30  2020-12-18 00:21:16  25.939703   \n",
       "1  A-2906919         4  2017-04-27 14:31:24  2017-04-27 20:31:24  43.197700   \n",
       "2  A-3334868         2  2020-12-29 00:22:00  2020-12-29 02:00:37  33.928147   \n",
       "3  A-3842156         2  2019-11-12 15:41:00  2019-11-12 17:29:58  40.717830   \n",
       "4  A-3680462         2  2020-01-10 19:22:13  2020-01-10 23:22:13  44.008170   \n",
       "\n",
       "    Start_Lng    End_Lat     End_Lng  Distance(mi)   Number  ... Roundabout  \\\n",
       "0  -80.188672  25.941481  -80.190011         0.148  17909.0  ...      False   \n",
       "1  -89.324430  43.190950  -89.324640         0.467      NaN  ...      False   \n",
       "2 -117.880283  33.922082 -117.880314         0.419      NaN  ...      False   \n",
       "3 -111.953630  40.717830 -111.953630         0.000      NaN  ...      False   \n",
       "4 -123.725830  44.008170 -123.725830         0.000  15683.0  ...      False   \n",
       "\n",
       "  Station   Stop Traffic_Calming Traffic_Signal Turning_Loop Sunrise_Sunset  \\\n",
       "0   False  False           False          False        False            Day   \n",
       "1   False  False           False          False        False            Day   \n",
       "2   False  False           False          False        False          Night   \n",
       "3   False  False           False          False        False            Day   \n",
       "4   False  False           False          False        False          Night   \n",
       "\n",
       "  Civil_Twilight Nautical_Twilight Astronomical_Twilight  \n",
       "0            Day               Day                   Day  \n",
       "1            Day               Day                   Day  \n",
       "2          Night             Night                 Night  \n",
       "3            Day               Day                   Day  \n",
       "4          Night             Night                 Night  \n",
       "\n",
       "[5 rows x 46 columns]"
      ]
     },
     "execution_count": 6,
     "metadata": {},
     "output_type": "execute_result"
    }
   ],
   "source": [
    "# quick check on the dataframe\n",
    "train_df.head()"
   ]
  },
  {
   "cell_type": "code",
   "execution_count": 7,
   "metadata": {},
   "outputs": [
    {
     "data": {
      "text/html": [
       "<div>\n",
       "<style scoped>\n",
       "    .dataframe tbody tr th:only-of-type {\n",
       "        vertical-align: middle;\n",
       "    }\n",
       "\n",
       "    .dataframe tbody tr th {\n",
       "        vertical-align: top;\n",
       "    }\n",
       "\n",
       "    .dataframe thead th {\n",
       "        text-align: right;\n",
       "    }\n",
       "</style>\n",
       "<table border=\"1\" class=\"dataframe\">\n",
       "  <thead>\n",
       "    <tr style=\"text-align: right;\">\n",
       "      <th></th>\n",
       "      <th>count</th>\n",
       "      <th>mean</th>\n",
       "      <th>std</th>\n",
       "      <th>min</th>\n",
       "      <th>25%</th>\n",
       "      <th>50%</th>\n",
       "      <th>75%</th>\n",
       "      <th>max</th>\n",
       "    </tr>\n",
       "  </thead>\n",
       "  <tbody>\n",
       "    <tr>\n",
       "      <th>Severity</th>\n",
       "      <td>454819.0</td>\n",
       "      <td>2.237798</td>\n",
       "      <td>0.607124</td>\n",
       "      <td>1.000000</td>\n",
       "      <td>2.000000</td>\n",
       "      <td>2.000000</td>\n",
       "      <td>2.000000</td>\n",
       "      <td>4.000000</td>\n",
       "    </tr>\n",
       "    <tr>\n",
       "      <th>Start_Lat</th>\n",
       "      <td>454819.0</td>\n",
       "      <td>36.889425</td>\n",
       "      <td>5.172987</td>\n",
       "      <td>24.570222</td>\n",
       "      <td>33.853450</td>\n",
       "      <td>37.336563</td>\n",
       "      <td>40.725746</td>\n",
       "      <td>49.000560</td>\n",
       "    </tr>\n",
       "    <tr>\n",
       "      <th>Start_Lng</th>\n",
       "      <td>454819.0</td>\n",
       "      <td>-98.565505</td>\n",
       "      <td>18.491487</td>\n",
       "      <td>-124.497567</td>\n",
       "      <td>-118.204979</td>\n",
       "      <td>-94.196830</td>\n",
       "      <td>-80.868365</td>\n",
       "      <td>-67.403551</td>\n",
       "    </tr>\n",
       "    <tr>\n",
       "      <th>End_Lat</th>\n",
       "      <td>454819.0</td>\n",
       "      <td>36.889509</td>\n",
       "      <td>5.172990</td>\n",
       "      <td>24.570110</td>\n",
       "      <td>33.853276</td>\n",
       "      <td>37.336621</td>\n",
       "      <td>40.725860</td>\n",
       "      <td>49.000760</td>\n",
       "    </tr>\n",
       "    <tr>\n",
       "      <th>End_Lng</th>\n",
       "      <td>454819.0</td>\n",
       "      <td>-98.565346</td>\n",
       "      <td>18.491330</td>\n",
       "      <td>-124.497478</td>\n",
       "      <td>-118.205073</td>\n",
       "      <td>-94.193390</td>\n",
       "      <td>-80.869045</td>\n",
       "      <td>-67.403550</td>\n",
       "    </tr>\n",
       "    <tr>\n",
       "      <th>Distance(mi)</th>\n",
       "      <td>454819.0</td>\n",
       "      <td>0.588083</td>\n",
       "      <td>1.624705</td>\n",
       "      <td>0.000000</td>\n",
       "      <td>0.000000</td>\n",
       "      <td>0.178000</td>\n",
       "      <td>0.595000</td>\n",
       "      <td>150.138000</td>\n",
       "    </tr>\n",
       "    <tr>\n",
       "      <th>Number</th>\n",
       "      <td>140896.0</td>\n",
       "      <td>8947.184739</td>\n",
       "      <td>17752.126698</td>\n",
       "      <td>1.000000</td>\n",
       "      <td>1213.000000</td>\n",
       "      <td>4001.000000</td>\n",
       "      <td>10103.250000</td>\n",
       "      <td>851900.000000</td>\n",
       "    </tr>\n",
       "    <tr>\n",
       "      <th>Temperature(F)</th>\n",
       "      <td>441909.0</td>\n",
       "      <td>59.570331</td>\n",
       "      <td>18.277158</td>\n",
       "      <td>-89.000000</td>\n",
       "      <td>47.000000</td>\n",
       "      <td>61.000000</td>\n",
       "      <td>73.000000</td>\n",
       "      <td>168.800000</td>\n",
       "    </tr>\n",
       "    <tr>\n",
       "      <th>Wind_Chill(F)</th>\n",
       "      <td>319861.0</td>\n",
       "      <td>55.119312</td>\n",
       "      <td>21.137370</td>\n",
       "      <td>-89.000000</td>\n",
       "      <td>40.700000</td>\n",
       "      <td>57.000000</td>\n",
       "      <td>71.000000</td>\n",
       "      <td>111.000000</td>\n",
       "    </tr>\n",
       "    <tr>\n",
       "      <th>Humidity(%)</th>\n",
       "      <td>441149.0</td>\n",
       "      <td>64.651394</td>\n",
       "      <td>23.288213</td>\n",
       "      <td>1.000000</td>\n",
       "      <td>48.000000</td>\n",
       "      <td>68.000000</td>\n",
       "      <td>84.000000</td>\n",
       "      <td>100.000000</td>\n",
       "    </tr>\n",
       "    <tr>\n",
       "      <th>Pressure(in)</th>\n",
       "      <td>443954.0</td>\n",
       "      <td>29.557892</td>\n",
       "      <td>1.012330</td>\n",
       "      <td>0.000000</td>\n",
       "      <td>29.450000</td>\n",
       "      <td>29.880000</td>\n",
       "      <td>30.050000</td>\n",
       "      <td>38.940000</td>\n",
       "    </tr>\n",
       "    <tr>\n",
       "      <th>Visibility(mi)</th>\n",
       "      <td>441543.0</td>\n",
       "      <td>9.126356</td>\n",
       "      <td>2.895579</td>\n",
       "      <td>0.000000</td>\n",
       "      <td>10.000000</td>\n",
       "      <td>10.000000</td>\n",
       "      <td>10.000000</td>\n",
       "      <td>120.000000</td>\n",
       "    </tr>\n",
       "    <tr>\n",
       "      <th>Wind_Speed(mph)</th>\n",
       "      <td>416103.0</td>\n",
       "      <td>7.630367</td>\n",
       "      <td>5.498013</td>\n",
       "      <td>0.000000</td>\n",
       "      <td>4.600000</td>\n",
       "      <td>7.000000</td>\n",
       "      <td>10.400000</td>\n",
       "      <td>518.000000</td>\n",
       "    </tr>\n",
       "    <tr>\n",
       "      <th>Precipitation(in)</th>\n",
       "      <td>301402.0</td>\n",
       "      <td>0.008520</td>\n",
       "      <td>0.125945</td>\n",
       "      <td>0.000000</td>\n",
       "      <td>0.000000</td>\n",
       "      <td>0.000000</td>\n",
       "      <td>0.000000</td>\n",
       "      <td>24.000000</td>\n",
       "    </tr>\n",
       "  </tbody>\n",
       "</table>\n",
       "</div>"
      ],
      "text/plain": [
       "                      count         mean           std         min  \\\n",
       "Severity           454819.0     2.237798      0.607124    1.000000   \n",
       "Start_Lat          454819.0    36.889425      5.172987   24.570222   \n",
       "Start_Lng          454819.0   -98.565505     18.491487 -124.497567   \n",
       "End_Lat            454819.0    36.889509      5.172990   24.570110   \n",
       "End_Lng            454819.0   -98.565346     18.491330 -124.497478   \n",
       "Distance(mi)       454819.0     0.588083      1.624705    0.000000   \n",
       "Number             140896.0  8947.184739  17752.126698    1.000000   \n",
       "Temperature(F)     441909.0    59.570331     18.277158  -89.000000   \n",
       "Wind_Chill(F)      319861.0    55.119312     21.137370  -89.000000   \n",
       "Humidity(%)        441149.0    64.651394     23.288213    1.000000   \n",
       "Pressure(in)       443954.0    29.557892      1.012330    0.000000   \n",
       "Visibility(mi)     441543.0     9.126356      2.895579    0.000000   \n",
       "Wind_Speed(mph)    416103.0     7.630367      5.498013    0.000000   \n",
       "Precipitation(in)  301402.0     0.008520      0.125945    0.000000   \n",
       "\n",
       "                           25%          50%           75%            max  \n",
       "Severity              2.000000     2.000000      2.000000       4.000000  \n",
       "Start_Lat            33.853450    37.336563     40.725746      49.000560  \n",
       "Start_Lng          -118.204979   -94.196830    -80.868365     -67.403551  \n",
       "End_Lat              33.853276    37.336621     40.725860      49.000760  \n",
       "End_Lng            -118.205073   -94.193390    -80.869045     -67.403550  \n",
       "Distance(mi)          0.000000     0.178000      0.595000     150.138000  \n",
       "Number             1213.000000  4001.000000  10103.250000  851900.000000  \n",
       "Temperature(F)       47.000000    61.000000     73.000000     168.800000  \n",
       "Wind_Chill(F)        40.700000    57.000000     71.000000     111.000000  \n",
       "Humidity(%)          48.000000    68.000000     84.000000     100.000000  \n",
       "Pressure(in)         29.450000    29.880000     30.050000      38.940000  \n",
       "Visibility(mi)       10.000000    10.000000     10.000000     120.000000  \n",
       "Wind_Speed(mph)       4.600000     7.000000     10.400000     518.000000  \n",
       "Precipitation(in)     0.000000     0.000000      0.000000      24.000000  "
      ]
     },
     "execution_count": 7,
     "metadata": {},
     "output_type": "execute_result"
    }
   ],
   "source": [
    "# quick check on numerical values\n",
    "train_df.describe().T"
   ]
  },
  {
   "cell_type": "code",
   "execution_count": 8,
   "metadata": {},
   "outputs": [
    {
     "data": {
      "text/html": [
       "<div>\n",
       "<style scoped>\n",
       "    .dataframe tbody tr th:only-of-type {\n",
       "        vertical-align: middle;\n",
       "    }\n",
       "\n",
       "    .dataframe tbody tr th {\n",
       "        vertical-align: top;\n",
       "    }\n",
       "\n",
       "    .dataframe thead th {\n",
       "        text-align: right;\n",
       "    }\n",
       "</style>\n",
       "<table border=\"1\" class=\"dataframe\">\n",
       "  <thead>\n",
       "    <tr style=\"text-align: right;\">\n",
       "      <th></th>\n",
       "      <th>ID</th>\n",
       "      <th>Severity</th>\n",
       "      <th>Start_Time</th>\n",
       "      <th>End_Time</th>\n",
       "      <th>Start_Lat</th>\n",
       "      <th>Start_Lng</th>\n",
       "      <th>End_Lat</th>\n",
       "      <th>End_Lng</th>\n",
       "      <th>Distance(mi)</th>\n",
       "      <th>Number</th>\n",
       "      <th>...</th>\n",
       "      <th>Roundabout</th>\n",
       "      <th>Station</th>\n",
       "      <th>Stop</th>\n",
       "      <th>Traffic_Calming</th>\n",
       "      <th>Traffic_Signal</th>\n",
       "      <th>Turning_Loop</th>\n",
       "      <th>Sunrise_Sunset</th>\n",
       "      <th>Civil_Twilight</th>\n",
       "      <th>Nautical_Twilight</th>\n",
       "      <th>Astronomical_Twilight</th>\n",
       "    </tr>\n",
       "  </thead>\n",
       "  <tbody>\n",
       "    <tr>\n",
       "      <th>0</th>\n",
       "      <td>A-3133992</td>\n",
       "      <td>2</td>\n",
       "      <td>2020-12-24 22:04:00</td>\n",
       "      <td>2020-12-25 00:39:00</td>\n",
       "      <td>29.517217</td>\n",
       "      <td>-98.396312</td>\n",
       "      <td>29.491863</td>\n",
       "      <td>-98.401992</td>\n",
       "      <td>1.785</td>\n",
       "      <td>NaN</td>\n",
       "      <td>...</td>\n",
       "      <td>False</td>\n",
       "      <td>False</td>\n",
       "      <td>False</td>\n",
       "      <td>False</td>\n",
       "      <td>False</td>\n",
       "      <td>False</td>\n",
       "      <td>Night</td>\n",
       "      <td>Night</td>\n",
       "      <td>Night</td>\n",
       "      <td>Night</td>\n",
       "    </tr>\n",
       "    <tr>\n",
       "      <th>1</th>\n",
       "      <td>A-4114587</td>\n",
       "      <td>3</td>\n",
       "      <td>2017-12-23 22:55:00</td>\n",
       "      <td>2017-12-24 04:55:00</td>\n",
       "      <td>45.494570</td>\n",
       "      <td>-122.673590</td>\n",
       "      <td>45.487430</td>\n",
       "      <td>-122.678580</td>\n",
       "      <td>0.549</td>\n",
       "      <td>NaN</td>\n",
       "      <td>...</td>\n",
       "      <td>False</td>\n",
       "      <td>False</td>\n",
       "      <td>False</td>\n",
       "      <td>False</td>\n",
       "      <td>False</td>\n",
       "      <td>False</td>\n",
       "      <td>Night</td>\n",
       "      <td>Night</td>\n",
       "      <td>Night</td>\n",
       "      <td>Night</td>\n",
       "    </tr>\n",
       "    <tr>\n",
       "      <th>2</th>\n",
       "      <td>A-3985478</td>\n",
       "      <td>4</td>\n",
       "      <td>2018-10-20 15:32:59</td>\n",
       "      <td>2018-10-20 16:02:36</td>\n",
       "      <td>42.702751</td>\n",
       "      <td>-84.548020</td>\n",
       "      <td>42.700873</td>\n",
       "      <td>-84.548030</td>\n",
       "      <td>0.130</td>\n",
       "      <td>468.0</td>\n",
       "      <td>...</td>\n",
       "      <td>False</td>\n",
       "      <td>False</td>\n",
       "      <td>False</td>\n",
       "      <td>False</td>\n",
       "      <td>False</td>\n",
       "      <td>False</td>\n",
       "      <td>Day</td>\n",
       "      <td>Day</td>\n",
       "      <td>Day</td>\n",
       "      <td>Day</td>\n",
       "    </tr>\n",
       "    <tr>\n",
       "      <th>3</th>\n",
       "      <td>A-3913907</td>\n",
       "      <td>2</td>\n",
       "      <td>2019-02-21 17:05:14</td>\n",
       "      <td>2019-02-21 17:35:13</td>\n",
       "      <td>42.328963</td>\n",
       "      <td>-83.215750</td>\n",
       "      <td>42.326412</td>\n",
       "      <td>-83.215645</td>\n",
       "      <td>0.176</td>\n",
       "      <td>NaN</td>\n",
       "      <td>...</td>\n",
       "      <td>False</td>\n",
       "      <td>False</td>\n",
       "      <td>False</td>\n",
       "      <td>False</td>\n",
       "      <td>False</td>\n",
       "      <td>False</td>\n",
       "      <td>Day</td>\n",
       "      <td>Day</td>\n",
       "      <td>Day</td>\n",
       "      <td>Day</td>\n",
       "    </tr>\n",
       "    <tr>\n",
       "      <th>4</th>\n",
       "      <td>A-3457977</td>\n",
       "      <td>2</td>\n",
       "      <td>2020-06-01 18:25:57</td>\n",
       "      <td>2020-06-01 18:40:57</td>\n",
       "      <td>33.773500</td>\n",
       "      <td>-84.235190</td>\n",
       "      <td>33.773500</td>\n",
       "      <td>-84.235190</td>\n",
       "      <td>0.000</td>\n",
       "      <td>NaN</td>\n",
       "      <td>...</td>\n",
       "      <td>False</td>\n",
       "      <td>False</td>\n",
       "      <td>False</td>\n",
       "      <td>False</td>\n",
       "      <td>False</td>\n",
       "      <td>False</td>\n",
       "      <td>Day</td>\n",
       "      <td>Day</td>\n",
       "      <td>Day</td>\n",
       "      <td>Day</td>\n",
       "    </tr>\n",
       "  </tbody>\n",
       "</table>\n",
       "<p>5 rows × 46 columns</p>\n",
       "</div>"
      ],
      "text/plain": [
       "          ID  Severity           Start_Time             End_Time  Start_Lat  \\\n",
       "0  A-3133992         2  2020-12-24 22:04:00  2020-12-25 00:39:00  29.517217   \n",
       "1  A-4114587         3  2017-12-23 22:55:00  2017-12-24 04:55:00  45.494570   \n",
       "2  A-3985478         4  2018-10-20 15:32:59  2018-10-20 16:02:36  42.702751   \n",
       "3  A-3913907         2  2019-02-21 17:05:14  2019-02-21 17:35:13  42.328963   \n",
       "4  A-3457977         2  2020-06-01 18:25:57  2020-06-01 18:40:57  33.773500   \n",
       "\n",
       "    Start_Lng    End_Lat     End_Lng  Distance(mi)  Number  ... Roundabout  \\\n",
       "0  -98.396312  29.491863  -98.401992         1.785     NaN  ...      False   \n",
       "1 -122.673590  45.487430 -122.678580         0.549     NaN  ...      False   \n",
       "2  -84.548020  42.700873  -84.548030         0.130   468.0  ...      False   \n",
       "3  -83.215750  42.326412  -83.215645         0.176     NaN  ...      False   \n",
       "4  -84.235190  33.773500  -84.235190         0.000     NaN  ...      False   \n",
       "\n",
       "  Station   Stop Traffic_Calming Traffic_Signal Turning_Loop Sunrise_Sunset  \\\n",
       "0   False  False           False          False        False          Night   \n",
       "1   False  False           False          False        False          Night   \n",
       "2   False  False           False          False        False            Day   \n",
       "3   False  False           False          False        False            Day   \n",
       "4   False  False           False          False        False            Day   \n",
       "\n",
       "  Civil_Twilight Nautical_Twilight Astronomical_Twilight  \n",
       "0          Night             Night                 Night  \n",
       "1          Night             Night                 Night  \n",
       "2            Day               Day                   Day  \n",
       "3            Day               Day                   Day  \n",
       "4            Day               Day                   Day  \n",
       "\n",
       "[5 rows x 46 columns]"
      ]
     },
     "execution_count": 8,
     "metadata": {},
     "output_type": "execute_result"
    }
   ],
   "source": [
    "# quick check on the dataframe\n",
    "val_df.head()"
   ]
  },
  {
   "cell_type": "code",
   "execution_count": 9,
   "metadata": {},
   "outputs": [
    {
     "data": {
      "text/html": [
       "<div>\n",
       "<style scoped>\n",
       "    .dataframe tbody tr th:only-of-type {\n",
       "        vertical-align: middle;\n",
       "    }\n",
       "\n",
       "    .dataframe tbody tr th {\n",
       "        vertical-align: top;\n",
       "    }\n",
       "\n",
       "    .dataframe thead th {\n",
       "        text-align: right;\n",
       "    }\n",
       "</style>\n",
       "<table border=\"1\" class=\"dataframe\">\n",
       "  <thead>\n",
       "    <tr style=\"text-align: right;\">\n",
       "      <th></th>\n",
       "      <th>count</th>\n",
       "      <th>mean</th>\n",
       "      <th>std</th>\n",
       "      <th>min</th>\n",
       "      <th>25%</th>\n",
       "      <th>50%</th>\n",
       "      <th>75%</th>\n",
       "      <th>max</th>\n",
       "    </tr>\n",
       "  </thead>\n",
       "  <tbody>\n",
       "    <tr>\n",
       "      <th>Severity</th>\n",
       "      <td>151606.0</td>\n",
       "      <td>2.240538</td>\n",
       "      <td>0.608165</td>\n",
       "      <td>1.000000</td>\n",
       "      <td>2.000000</td>\n",
       "      <td>2.000000</td>\n",
       "      <td>2.000000</td>\n",
       "      <td>4.000000</td>\n",
       "    </tr>\n",
       "    <tr>\n",
       "      <th>Start_Lat</th>\n",
       "      <td>151606.0</td>\n",
       "      <td>36.920080</td>\n",
       "      <td>5.151439</td>\n",
       "      <td>24.570584</td>\n",
       "      <td>33.856873</td>\n",
       "      <td>37.378529</td>\n",
       "      <td>40.727600</td>\n",
       "      <td>48.991585</td>\n",
       "    </tr>\n",
       "    <tr>\n",
       "      <th>Start_Lng</th>\n",
       "      <td>151606.0</td>\n",
       "      <td>-98.569743</td>\n",
       "      <td>18.494650</td>\n",
       "      <td>-124.497410</td>\n",
       "      <td>-118.207620</td>\n",
       "      <td>-94.355470</td>\n",
       "      <td>-80.865664</td>\n",
       "      <td>-67.868380</td>\n",
       "    </tr>\n",
       "    <tr>\n",
       "      <th>End_Lat</th>\n",
       "      <td>151606.0</td>\n",
       "      <td>36.920071</td>\n",
       "      <td>5.151362</td>\n",
       "      <td>24.574546</td>\n",
       "      <td>33.856757</td>\n",
       "      <td>37.378220</td>\n",
       "      <td>40.727738</td>\n",
       "      <td>49.002140</td>\n",
       "    </tr>\n",
       "    <tr>\n",
       "      <th>End_Lng</th>\n",
       "      <td>151606.0</td>\n",
       "      <td>-98.569519</td>\n",
       "      <td>18.494490</td>\n",
       "      <td>-124.497410</td>\n",
       "      <td>-118.207676</td>\n",
       "      <td>-94.356550</td>\n",
       "      <td>-80.865379</td>\n",
       "      <td>-67.868490</td>\n",
       "    </tr>\n",
       "    <tr>\n",
       "      <th>Distance(mi)</th>\n",
       "      <td>151606.0</td>\n",
       "      <td>0.589541</td>\n",
       "      <td>1.715037</td>\n",
       "      <td>0.000000</td>\n",
       "      <td>0.000000</td>\n",
       "      <td>0.180000</td>\n",
       "      <td>0.594000</td>\n",
       "      <td>153.663000</td>\n",
       "    </tr>\n",
       "    <tr>\n",
       "      <th>Number</th>\n",
       "      <td>46791.0</td>\n",
       "      <td>8782.533244</td>\n",
       "      <td>15498.826046</td>\n",
       "      <td>1.000000</td>\n",
       "      <td>1205.000000</td>\n",
       "      <td>3998.000000</td>\n",
       "      <td>10099.000000</td>\n",
       "      <td>611963.000000</td>\n",
       "    </tr>\n",
       "    <tr>\n",
       "      <th>Temperature(F)</th>\n",
       "      <td>147294.0</td>\n",
       "      <td>59.593157</td>\n",
       "      <td>18.336775</td>\n",
       "      <td>-58.000000</td>\n",
       "      <td>47.000000</td>\n",
       "      <td>61.000000</td>\n",
       "      <td>73.000000</td>\n",
       "      <td>170.600000</td>\n",
       "    </tr>\n",
       "    <tr>\n",
       "      <th>Wind_Chill(F)</th>\n",
       "      <td>106459.0</td>\n",
       "      <td>55.044042</td>\n",
       "      <td>21.181972</td>\n",
       "      <td>-65.900000</td>\n",
       "      <td>40.600000</td>\n",
       "      <td>57.000000</td>\n",
       "      <td>71.000000</td>\n",
       "      <td>112.000000</td>\n",
       "    </tr>\n",
       "    <tr>\n",
       "      <th>Humidity(%)</th>\n",
       "      <td>147061.0</td>\n",
       "      <td>64.610883</td>\n",
       "      <td>23.268737</td>\n",
       "      <td>1.000000</td>\n",
       "      <td>48.000000</td>\n",
       "      <td>67.000000</td>\n",
       "      <td>84.000000</td>\n",
       "      <td>100.000000</td>\n",
       "    </tr>\n",
       "    <tr>\n",
       "      <th>Pressure(in)</th>\n",
       "      <td>147965.0</td>\n",
       "      <td>29.555888</td>\n",
       "      <td>1.015800</td>\n",
       "      <td>19.890000</td>\n",
       "      <td>29.440000</td>\n",
       "      <td>29.880000</td>\n",
       "      <td>30.050000</td>\n",
       "      <td>58.040000</td>\n",
       "    </tr>\n",
       "    <tr>\n",
       "      <th>Visibility(mi)</th>\n",
       "      <td>147139.0</td>\n",
       "      <td>9.128877</td>\n",
       "      <td>2.941813</td>\n",
       "      <td>0.000000</td>\n",
       "      <td>10.000000</td>\n",
       "      <td>10.000000</td>\n",
       "      <td>10.000000</td>\n",
       "      <td>140.000000</td>\n",
       "    </tr>\n",
       "    <tr>\n",
       "      <th>Wind_Speed(mph)</th>\n",
       "      <td>138629.0</td>\n",
       "      <td>7.623197</td>\n",
       "      <td>5.414960</td>\n",
       "      <td>0.000000</td>\n",
       "      <td>4.600000</td>\n",
       "      <td>7.000000</td>\n",
       "      <td>10.400000</td>\n",
       "      <td>142.000000</td>\n",
       "    </tr>\n",
       "    <tr>\n",
       "      <th>Precipitation(in)</th>\n",
       "      <td>100274.0</td>\n",
       "      <td>0.008016</td>\n",
       "      <td>0.111296</td>\n",
       "      <td>0.000000</td>\n",
       "      <td>0.000000</td>\n",
       "      <td>0.000000</td>\n",
       "      <td>0.000000</td>\n",
       "      <td>10.000000</td>\n",
       "    </tr>\n",
       "  </tbody>\n",
       "</table>\n",
       "</div>"
      ],
      "text/plain": [
       "                      count         mean           std         min  \\\n",
       "Severity           151606.0     2.240538      0.608165    1.000000   \n",
       "Start_Lat          151606.0    36.920080      5.151439   24.570584   \n",
       "Start_Lng          151606.0   -98.569743     18.494650 -124.497410   \n",
       "End_Lat            151606.0    36.920071      5.151362   24.574546   \n",
       "End_Lng            151606.0   -98.569519     18.494490 -124.497410   \n",
       "Distance(mi)       151606.0     0.589541      1.715037    0.000000   \n",
       "Number              46791.0  8782.533244  15498.826046    1.000000   \n",
       "Temperature(F)     147294.0    59.593157     18.336775  -58.000000   \n",
       "Wind_Chill(F)      106459.0    55.044042     21.181972  -65.900000   \n",
       "Humidity(%)        147061.0    64.610883     23.268737    1.000000   \n",
       "Pressure(in)       147965.0    29.555888      1.015800   19.890000   \n",
       "Visibility(mi)     147139.0     9.128877      2.941813    0.000000   \n",
       "Wind_Speed(mph)    138629.0     7.623197      5.414960    0.000000   \n",
       "Precipitation(in)  100274.0     0.008016      0.111296    0.000000   \n",
       "\n",
       "                           25%          50%           75%            max  \n",
       "Severity              2.000000     2.000000      2.000000       4.000000  \n",
       "Start_Lat            33.856873    37.378529     40.727600      48.991585  \n",
       "Start_Lng          -118.207620   -94.355470    -80.865664     -67.868380  \n",
       "End_Lat              33.856757    37.378220     40.727738      49.002140  \n",
       "End_Lng            -118.207676   -94.356550    -80.865379     -67.868490  \n",
       "Distance(mi)          0.000000     0.180000      0.594000     153.663000  \n",
       "Number             1205.000000  3998.000000  10099.000000  611963.000000  \n",
       "Temperature(F)       47.000000    61.000000     73.000000     170.600000  \n",
       "Wind_Chill(F)        40.600000    57.000000     71.000000     112.000000  \n",
       "Humidity(%)          48.000000    67.000000     84.000000     100.000000  \n",
       "Pressure(in)         29.440000    29.880000     30.050000      58.040000  \n",
       "Visibility(mi)       10.000000    10.000000     10.000000     140.000000  \n",
       "Wind_Speed(mph)       4.600000     7.000000     10.400000     142.000000  \n",
       "Precipitation(in)     0.000000     0.000000      0.000000      10.000000  "
      ]
     },
     "execution_count": 9,
     "metadata": {},
     "output_type": "execute_result"
    }
   ],
   "source": [
    "# quick check on numerical values\n",
    "val_df.describe().T"
   ]
  },
  {
   "cell_type": "code",
   "execution_count": 10,
   "metadata": {},
   "outputs": [],
   "source": [
    "# dropping redundant ID column\n",
    "train_df = train_df.drop(\"ID\", axis=1)\n",
    "val_df = val_df.drop(\"ID\", axis=1)"
   ]
  },
  {
   "cell_type": "code",
   "execution_count": 11,
   "metadata": {},
   "outputs": [],
   "source": [
    "# original dataframe without cleaning but no ID column in case we need it\n",
    "orig_train_df = train_df.copy()\n",
    "orig_val_df = val_df.copy()\n",
    "orig_test_df = test_df.copy()"
   ]
  },
  {
   "cell_type": "markdown",
   "metadata": {},
   "source": [
    "## Data Cleaning (same as assignment 1)\n",
    "### -- Severity (the label)"
   ]
  },
  {
   "cell_type": "code",
   "execution_count": 12,
   "metadata": {},
   "outputs": [
    {
     "name": "stdout",
     "output_type": "stream",
     "text": [
      "2    364027\n",
      "3     48187\n",
      "4     34191\n",
      "1      8414\n",
      "Name: Severity, dtype: int64\n",
      "2    121312\n",
      "3     16105\n",
      "4     11517\n",
      "1      2672\n",
      "Name: Severity, dtype: int64\n"
     ]
    }
   ],
   "source": [
    "# no need to check test set for this one as they don't have the label\n",
    "print(train_df['Severity'].value_counts())\n",
    "print(val_df['Severity'].value_counts())"
   ]
  },
  {
   "cell_type": "code",
   "execution_count": 13,
   "metadata": {},
   "outputs": [
    {
     "name": "stdout",
     "output_type": "stream",
     "text": [
      "0\n",
      "0\n"
     ]
    }
   ],
   "source": [
    "# check for nulls\n",
    "print(train_df['Severity'].isna().sum())\n",
    "print(val_df['Severity'].isna().sum())"
   ]
  },
  {
   "cell_type": "markdown",
   "metadata": {},
   "source": [
    "### -- Start_Time, End_Time"
   ]
  },
  {
   "cell_type": "code",
   "execution_count": 14,
   "metadata": {},
   "outputs": [
    {
     "name": "stdout",
     "output_type": "stream",
     "text": [
      "0         2020-12-17 13:56:30\n",
      "1         2017-04-27 14:31:24\n",
      "2         2020-12-29 00:22:00\n",
      "3         2019-11-12 15:41:00\n",
      "4         2020-01-10 19:22:13\n",
      "                 ...         \n",
      "454814    2020-05-20 16:43:48\n",
      "454815    2020-11-07 02:56:31\n",
      "454816    2017-05-25 05:53:09\n",
      "454817    2017-01-19 17:47:52\n",
      "454818    2017-10-05 15:37:55\n",
      "Name: Start_Time, Length: 454819, dtype: object\n"
     ]
    },
    {
     "data": {
      "text/plain": [
       "0         2020-12-18 00:21:16\n",
       "1         2017-04-27 20:31:24\n",
       "2         2020-12-29 02:00:37\n",
       "3         2019-11-12 17:29:58\n",
       "4         2020-01-10 23:22:13\n",
       "                 ...         \n",
       "454814    2020-05-20 17:13:48\n",
       "454815    2020-11-07 08:34:51\n",
       "454816    2017-05-25 11:53:09\n",
       "454817    2017-01-19 23:47:52\n",
       "454818    2017-10-05 21:37:55\n",
       "Name: End_Time, Length: 454819, dtype: object"
      ]
     },
     "execution_count": 14,
     "metadata": {},
     "output_type": "execute_result"
    }
   ],
   "source": [
    "print(train_df['Start_Time'])\n",
    "train_df['End_Time']"
   ]
  },
  {
   "cell_type": "code",
   "execution_count": 15,
   "metadata": {},
   "outputs": [
    {
     "name": "stdout",
     "output_type": "stream",
     "text": [
      "0\n",
      "0\n",
      "0\n",
      "0\n",
      "0\n",
      "0\n"
     ]
    }
   ],
   "source": [
    "# no need to check value counts as they have a lot of uniques\n",
    "# checking nulls\n",
    "print(train_df['Start_Time'].isna().sum())\n",
    "print(val_df['Start_Time'].isna().sum())\n",
    "print(test_df['Start_Time'].isna().sum())\n",
    "print(train_df['End_Time'].isna().sum())\n",
    "print(val_df['End_Time'].isna().sum())\n",
    "print(test_df['End_Time'].isna().sum())"
   ]
  },
  {
   "cell_type": "code",
   "execution_count": 16,
   "metadata": {},
   "outputs": [
    {
     "name": "stdout",
     "output_type": "stream",
     "text": [
      "False    444405\n",
      "True      10414\n",
      "Name: Start_Time, dtype: int64\n",
      "False    148167\n",
      "True       3439\n",
      "Name: Start_Time, dtype: int64\n",
      "False    148206\n",
      "True       3401\n",
      "Name: Start_Time, dtype: int64\n",
      "False    444405\n",
      "True      10414\n",
      "Name: End_Time, dtype: int64\n",
      "False    148167\n",
      "True       3439\n",
      "Name: End_Time, dtype: int64\n",
      "False    148206\n",
      "True       3401\n",
      "Name: End_Time, dtype: int64\n"
     ]
    }
   ],
   "source": [
    "# scrolling through the CSV, we can see that some timestamp has a microseconds part\n",
    "# since truncating those microseconds won't affect things much\n",
    "# let's remove it for the next steps\n",
    "\n",
    "# regex will check for strings with 19 characters and has a microseconds after it\n",
    "regex_str = '(.{19}).\\d+'\n",
    "\n",
    "# turn off some dumb warnings for this one\n",
    "with warnings.catch_warnings(record=True):\n",
    "    # pre-removal\n",
    "    # True means the timestamp has a microsecond part, False means it doesn't\n",
    "    print(train_df['Start_Time'].str.contains(regex_str).value_counts())\n",
    "    print(val_df['Start_Time'].str.contains(regex_str).value_counts())\n",
    "    print(test_df['Start_Time'].str.contains(regex_str).value_counts())\n",
    "    print(train_df['End_Time'].str.contains(regex_str).value_counts())\n",
    "    print(val_df['End_Time'].str.contains(regex_str).value_counts())\n",
    "    print(test_df['End_Time'].str.contains(regex_str).value_counts())\n",
    "\n",
    "    # cut the string to only the first 19 characters if the length is longer than 19\n",
    "    train_df['Start_Time'] = train_df['Start_Time'].apply(lambda x : x[:19] if len(x) > 19 else x)\n",
    "    val_df['Start_Time'] = val_df['Start_Time'].apply(lambda x : x[:19] if len(x) > 19 else x)\n",
    "    test_df['Start_Time'] = test_df['Start_Time'].apply(lambda x : x[:19] if len(x) > 19 else x)\n",
    "    train_df['End_Time'] = train_df['End_Time'].apply(lambda x : x[:19] if len(x) > 19 else x)\n",
    "    val_df['End_Time'] = val_df['End_Time'].apply(lambda x : x[:19] if len(x) > 19 else x)\n",
    "    test_df['End_Time'] = test_df['End_Time'].apply(lambda x : x[:19] if len(x) > 19 else x)"
   ]
  },
  {
   "cell_type": "code",
   "execution_count": 17,
   "metadata": {},
   "outputs": [
    {
     "name": "stdout",
     "output_type": "stream",
     "text": [
      "False    454819\n",
      "Name: Start_Time, dtype: int64\n",
      "False    151606\n",
      "Name: Start_Time, dtype: int64\n",
      "False    151607\n",
      "Name: Start_Time, dtype: int64\n",
      "False    454819\n",
      "Name: End_Time, dtype: int64\n",
      "False    151606\n",
      "Name: End_Time, dtype: int64\n",
      "False    151607\n",
      "Name: End_Time, dtype: int64\n"
     ]
    }
   ],
   "source": [
    "# turn off some dumb warnings for this one\n",
    "with warnings.catch_warnings(record=True):\n",
    "    # post-removal\n",
    "    print(train_df['Start_Time'].str.contains(regex_str).value_counts())\n",
    "    print(val_df['Start_Time'].str.contains(regex_str).value_counts())\n",
    "    print(test_df['Start_Time'].str.contains(regex_str).value_counts())\n",
    "    print(train_df['End_Time'].str.contains(regex_str).value_counts())\n",
    "    print(val_df['End_Time'].str.contains(regex_str).value_counts())\n",
    "    print(test_df['End_Time'].str.contains(regex_str).value_counts())\n"
   ]
  },
  {
   "cell_type": "code",
   "execution_count": 18,
   "metadata": {},
   "outputs": [
    {
     "name": "stdout",
     "output_type": "stream",
     "text": [
      "2020-12-16 13:53:25    33\n",
      "2020-09-30 12:41:30    22\n",
      "2017-05-15 09:22:55    21\n",
      "2020-12-15 02:32:00    20\n",
      "2019-10-26 08:45:17    19\n",
      "                       ..\n",
      "2019-09-09 08:52:57     1\n",
      "2020-12-07 16:07:38     1\n",
      "2019-09-23 14:28:00     1\n",
      "2019-01-02 07:06:42     1\n",
      "2017-10-05 15:37:55     1\n",
      "Name: Start_Time, Length: 385204, dtype: int64\n"
     ]
    }
   ],
   "source": [
    "# sanity check\n",
    "print(train_df['Start_Time'].value_counts())\n",
    "\n",
    "# I did a Ctrl+F for \"2020-12-16 13:53:25\" and 33 matches show up, and some has the microseconds part\n",
    "# so value_counts() showing up with 33 matches means it is correct"
   ]
  },
  {
   "cell_type": "code",
   "execution_count": 19,
   "metadata": {},
   "outputs": [
    {
     "data": {
      "text/plain": [
       "0         1.608188e+09\n",
       "1         1.493278e+09\n",
       "2         1.609176e+09\n",
       "3         1.573548e+09\n",
       "4         1.578659e+09\n",
       "              ...     \n",
       "454814    1.589968e+09\n",
       "454815    1.604693e+09\n",
       "454816    1.495666e+09\n",
       "454817    1.484823e+09\n",
       "454818    1.507193e+09\n",
       "Name: Start_Time, Length: 454819, dtype: float64"
      ]
     },
     "execution_count": 19,
     "metadata": {},
     "output_type": "execute_result"
    }
   ],
   "source": [
    "# converting from string to a float unix timestamp\n",
    "# this makes the data more \"readable\" and understandable for the machine\n",
    "format_str = \"%Y-%m-%d %H:%M:%S\"\n",
    "datetime_obj = dt.datetime\n",
    "\n",
    "train_df['Start_Time'] = train_df['Start_Time'].apply(lambda t : datetime_obj.strptime(t, format_str).timestamp())\n",
    "val_df['Start_Time'] = val_df['Start_Time'].apply(lambda t : datetime_obj.strptime(t, format_str).timestamp())\n",
    "test_df['Start_Time'] = test_df['Start_Time'].apply(lambda t : datetime_obj.strptime(t, format_str).timestamp())\n",
    "train_df['End_Time'] = train_df['End_Time'].apply(lambda t : datetime_obj.strptime(t, format_str).timestamp())\n",
    "val_df['End_Time'] = val_df['End_Time'].apply(lambda t : datetime_obj.strptime(t, format_str).timestamp())\n",
    "test_df['End_Time'] = test_df['End_Time'].apply(lambda t : datetime_obj.strptime(t, format_str).timestamp())\n",
    "\n",
    "train_df['Start_Time']\n"
   ]
  },
  {
   "cell_type": "markdown",
   "metadata": {},
   "source": [
    "### -- Start_Lat, Start_Lng, End_Lat, End_Lng"
   ]
  },
  {
   "cell_type": "code",
   "execution_count": 20,
   "metadata": {},
   "outputs": [
    {
     "name": "stdout",
     "output_type": "stream",
     "text": [
      "0    25.939703\n",
      "1    43.197700\n",
      "2    33.928147\n",
      "3    40.717830\n",
      "4    44.008170\n",
      "Name: Start_Lat, dtype: float64\n",
      "0    -80.188672\n",
      "1    -89.324430\n",
      "2   -117.880283\n",
      "3   -111.953630\n",
      "4   -123.725830\n",
      "Name: Start_Lng, dtype: float64\n",
      "0    25.941481\n",
      "1    43.190950\n",
      "2    33.922082\n",
      "3    40.717830\n",
      "4    44.008170\n",
      "Name: End_Lat, dtype: float64\n",
      "0    -80.190011\n",
      "1    -89.324640\n",
      "2   -117.880314\n",
      "3   -111.953630\n",
      "4   -123.725830\n",
      "Name: End_Lng, dtype: float64\n"
     ]
    }
   ],
   "source": [
    "print(train_df['Start_Lat'].head())\n",
    "print(train_df['Start_Lng'].head())\n",
    "print(train_df['End_Lat'].head())\n",
    "print(train_df['End_Lng'].head())"
   ]
  },
  {
   "cell_type": "code",
   "execution_count": 21,
   "metadata": {},
   "outputs": [
    {
     "name": "stdout",
     "output_type": "stream",
     "text": [
      "0\n",
      "0\n",
      "0\n",
      "0\n"
     ]
    }
   ],
   "source": [
    "print(train_df['Start_Lat'].isna().sum())\n",
    "print(train_df['Start_Lng'].isna().sum())\n",
    "print(train_df['End_Lat'].isna().sum())\n",
    "print(train_df['End_Lng'].isna().sum())"
   ]
  },
  {
   "cell_type": "markdown",
   "metadata": {},
   "source": [
    "* Assuming the dataset only contains accidents that happen inside the Contiguous Mainland United States (meaning excluding Alaska, Hawaii and other territories and islands) and according to [here](https://en.wikipedia.org/wiki/List_of_extreme_points_of_the_United_States). \n",
    "* The lowest latitude point is 24.44, the highest latitude point is 49.38\n",
    "* The lowest longitude point is -124.79, the highest longitude point is -66.95\n",
    "* So any latitude or longitude out of this range is considered an impossible value"
   ]
  },
  {
   "cell_type": "code",
   "execution_count": 22,
   "metadata": {},
   "outputs": [
    {
     "name": "stdout",
     "output_type": "stream",
     "text": [
      "min    24.570222\n",
      "max    49.000560\n",
      "Name: Start_Lat, dtype: float64\n",
      "min   -124.497567\n",
      "max    -67.403551\n",
      "Name: Start_Lng, dtype: float64\n",
      "min    24.57011\n",
      "max    49.00076\n",
      "Name: End_Lat, dtype: float64\n",
      "min   -124.497478\n",
      "max    -67.403550\n",
      "Name: End_Lng, dtype: float64\n"
     ]
    }
   ],
   "source": [
    "# luckily we don't have any impossible value to deal with\n",
    "print(train_df['Start_Lat'].describe()[['min', 'max']])\n",
    "print(train_df['Start_Lng'].describe()[['min', 'max']])\n",
    "print(train_df['End_Lat'].describe()[['min', 'max']])\n",
    "print(train_df['End_Lng'].describe()[['min', 'max']])"
   ]
  },
  {
   "cell_type": "markdown",
   "metadata": {},
   "source": [
    "### -- Distance(mi)"
   ]
  },
  {
   "cell_type": "code",
   "execution_count": 23,
   "metadata": {},
   "outputs": [
    {
     "data": {
      "text/plain": [
       "0         0.148\n",
       "1         0.467\n",
       "2         0.419\n",
       "3         0.000\n",
       "4         0.000\n",
       "          ...  \n",
       "454814    1.010\n",
       "454815    4.311\n",
       "454816    0.109\n",
       "454817    0.001\n",
       "454818    0.038\n",
       "Name: Distance(mi), Length: 454819, dtype: float64"
      ]
     },
     "execution_count": 23,
     "metadata": {},
     "output_type": "execute_result"
    }
   ],
   "source": [
    "train_df[\"Distance(mi)\"]"
   ]
  },
  {
   "cell_type": "code",
   "execution_count": 24,
   "metadata": {},
   "outputs": [
    {
     "data": {
      "text/plain": [
       "0"
      ]
     },
     "execution_count": 24,
     "metadata": {},
     "output_type": "execute_result"
    }
   ],
   "source": [
    "train_df[\"Distance(mi)\"].isna().sum()"
   ]
  },
  {
   "cell_type": "code",
   "execution_count": 25,
   "metadata": {},
   "outputs": [
    {
     "name": "stdout",
     "output_type": "stream",
     "text": [
      "count    454819.000000\n",
      "mean          0.588083\n",
      "std           1.624705\n",
      "min           0.000000\n",
      "25%           0.000000\n",
      "50%           0.178000\n",
      "75%           0.595000\n",
      "max         150.138000\n",
      "Name: Distance(mi), dtype: float64\n",
      "count    151606.000000\n",
      "mean          0.589541\n",
      "std           1.715037\n",
      "min           0.000000\n",
      "25%           0.000000\n",
      "50%           0.180000\n",
      "75%           0.594000\n",
      "max         153.663000\n",
      "Name: Distance(mi), dtype: float64\n",
      "count    151607.000000\n",
      "mean          0.579563\n",
      "std           1.655603\n",
      "min           0.000000\n",
      "25%           0.000000\n",
      "50%           0.175000\n",
      "75%           0.588000\n",
      "max         152.543000\n",
      "Name: Distance(mi), dtype: float64\n"
     ]
    }
   ],
   "source": [
    "print(train_df[\"Distance(mi)\"].describe())\n",
    "print(val_df[\"Distance(mi)\"].describe())\n",
    "print(test_df[\"Distance(mi)\"].describe())"
   ]
  },
  {
   "cell_type": "code",
   "execution_count": 26,
   "metadata": {},
   "outputs": [
    {
     "data": {
      "text/plain": [
       "<AxesSubplot:>"
      ]
     },
     "execution_count": 26,
     "metadata": {},
     "output_type": "execute_result"
    },
    {
     "data": {
      "image/png": "[encoded data removed]",
      "text/plain": [
       "<Figure size 1440x720 with 1 Axes>"
      ]
     },
     "metadata": {
      "needs_background": "light"
     },
     "output_type": "display_data"
    }
   ],
   "source": [
    "# let's have a peek at the box plot\n",
    "train_df[\"Distance(mi)\"].plot(kind='box', vert=False, figsize=(20,10))"
   ]
  },
  {
   "cell_type": "markdown",
   "metadata": {},
   "source": [
    "* Lots of outliers for this one, but not necessarily impossible values I think\n",
    "* We'll keep them for now and see if removing them, or try other stuff, is going to improve the model later"
   ]
  },
  {
   "cell_type": "markdown",
   "metadata": {},
   "source": [
    "### -- Number"
   ]
  },
  {
   "cell_type": "code",
   "execution_count": 27,
   "metadata": {},
   "outputs": [
    {
     "data": {
      "text/plain": [
       "0         17909.0\n",
       "1             NaN\n",
       "2             NaN\n",
       "3             NaN\n",
       "4         15683.0\n",
       "           ...   \n",
       "454814        1.0\n",
       "454815        NaN\n",
       "454816        NaN\n",
       "454817    11993.0\n",
       "454818        NaN\n",
       "Name: Number, Length: 454819, dtype: float64"
      ]
     },
     "execution_count": 27,
     "metadata": {},
     "output_type": "execute_result"
    }
   ],
   "source": [
    "train_df[\"Number\"]"
   ]
  },
  {
   "cell_type": "code",
   "execution_count": 28,
   "metadata": {},
   "outputs": [
    {
     "name": "stdout",
     "output_type": "stream",
     "text": [
      "313923\n",
      "104815\n",
      "104525\n"
     ]
    }
   ],
   "source": [
    "print(train_df[\"Number\"].isna().sum())\n",
    "print(val_df[\"Number\"].isna().sum())\n",
    "print(test_df[\"Number\"].isna().sum())"
   ]
  },
  {
   "cell_type": "code",
   "execution_count": 29,
   "metadata": {},
   "outputs": [
    {
     "name": "stdout",
     "output_type": "stream",
     "text": [
      "69.02152284755034\n",
      "69.13644578710606\n",
      "68.94470571939291\n"
     ]
    }
   ],
   "source": [
    "print(train_df[\"Number\"].isna().sum() / train_df.shape[0] * 100)\n",
    "print(val_df[\"Number\"].isna().sum() / val_df.shape[0] * 100)\n",
    "print(test_df[\"Number\"].isna().sum() / test_df.shape[0] * 100)"
   ]
  },
  {
   "cell_type": "markdown",
   "metadata": {},
   "source": [
    "* I'm guessing this column is the street number at the place of accident\n",
    "* Very high percentage of nulls. But nothing much we can do as imputing is impossible in this case\n",
    "* We can fill the nulls out with an empty string, and we can drop later in the modelling part to see how it affects"
   ]
  },
  {
   "cell_type": "code",
   "execution_count": 30,
   "metadata": {},
   "outputs": [],
   "source": [
    "train_df[\"Number\"] = train_df[\"Number\"].fillna('')\n",
    "val_df[\"Number\"] = val_df[\"Number\"].fillna('')\n",
    "test_df[\"Number\"] = test_df[\"Number\"].fillna('')"
   ]
  },
  {
   "cell_type": "code",
   "execution_count": 31,
   "metadata": {},
   "outputs": [
    {
     "name": "stdout",
     "output_type": "stream",
     "text": [
      "0\n",
      "0\n",
      "0\n"
     ]
    }
   ],
   "source": [
    "# sanity check\n",
    "print(train_df[\"Number\"].isna().sum())\n",
    "print(val_df[\"Number\"].isna().sum())\n",
    "print(test_df[\"Number\"].isna().sum())"
   ]
  },
  {
   "cell_type": "code",
   "execution_count": 32,
   "metadata": {},
   "outputs": [],
   "source": [
    "# cast to string as it makes the most sense\n",
    "train_df[\"Number\"] = train_df[\"Number\"].astype(\"string\")\n",
    "val_df[\"Number\"] = val_df[\"Number\"].astype(\"string\")\n",
    "test_df[\"Number\"] = test_df[\"Number\"].astype(\"string\")"
   ]
  },
  {
   "cell_type": "markdown",
   "metadata": {},
   "source": [
    "### -- Street"
   ]
  },
  {
   "cell_type": "code",
   "execution_count": 33,
   "metadata": {},
   "outputs": [
    {
     "data": {
      "text/plain": [
       "0           NE 6th Ave\n",
       "1              US-51 S\n",
       "2              CA-57 S\n",
       "3              I-215 S\n",
       "4          Highway 126\n",
       "              ...     \n",
       "454814      44th St SE\n",
       "454815         CT-15 S\n",
       "454816    Pomona Fwy W\n",
       "454817      Merritt St\n",
       "454818     Outerbelt N\n",
       "Name: Street, Length: 454819, dtype: object"
      ]
     },
     "execution_count": 33,
     "metadata": {},
     "output_type": "execute_result"
    }
   ],
   "source": [
    "train_df[\"Street\"]"
   ]
  },
  {
   "cell_type": "code",
   "execution_count": 34,
   "metadata": {},
   "outputs": [
    {
     "name": "stdout",
     "output_type": "stream",
     "text": [
      "0\n",
      "0\n",
      "0\n"
     ]
    }
   ],
   "source": [
    "print(train_df[\"Street\"].isna().sum())\n",
    "print(val_df[\"Street\"].isna().sum())\n",
    "print(test_df[\"Street\"].isna().sum())"
   ]
  },
  {
   "cell_type": "code",
   "execution_count": 35,
   "metadata": {},
   "outputs": [],
   "source": [
    "# normalizing by lower everything\n",
    "train_df[\"Street\"] = train_df[\"Street\"].apply(lambda x : x.lower().strip())\n",
    "val_df[\"Street\"] = val_df[\"Street\"].apply(lambda x : x.lower().strip())\n",
    "test_df[\"Street\"] = test_df[\"Street\"].apply(lambda x : x.lower().strip())"
   ]
  },
  {
   "cell_type": "code",
   "execution_count": 36,
   "metadata": {},
   "outputs": [],
   "source": [
    "# just need to cast data type for this column\n",
    "train_df[\"Street\"] = train_df[\"Street\"].astype(\"string\")\n",
    "val_df[\"Street\"] = val_df[\"Street\"].astype(\"string\")\n",
    "test_df[\"Street\"] = test_df[\"Street\"].astype(\"string\")"
   ]
  },
  {
   "cell_type": "markdown",
   "metadata": {},
   "source": [
    "### -- Side"
   ]
  },
  {
   "cell_type": "code",
   "execution_count": 37,
   "metadata": {},
   "outputs": [
    {
     "data": {
      "text/plain": [
       "0         R\n",
       "1         R\n",
       "2         R\n",
       "3         R\n",
       "4         L\n",
       "         ..\n",
       "454814    L\n",
       "454815    R\n",
       "454816    R\n",
       "454817    L\n",
       "454818    R\n",
       "Name: Side, Length: 454819, dtype: object"
      ]
     },
     "execution_count": 37,
     "metadata": {},
     "output_type": "execute_result"
    }
   ],
   "source": [
    "train_df[\"Side\"]"
   ]
  },
  {
   "cell_type": "code",
   "execution_count": 38,
   "metadata": {},
   "outputs": [
    {
     "name": "stdout",
     "output_type": "stream",
     "text": [
      "0\n",
      "0\n",
      "0\n"
     ]
    }
   ],
   "source": [
    "print(train_df[\"Side\"].isna().sum())\n",
    "print(val_df[\"Side\"].isna().sum())\n",
    "print(test_df[\"Side\"].isna().sum())"
   ]
  },
  {
   "cell_type": "code",
   "execution_count": 39,
   "metadata": {},
   "outputs": [],
   "source": [
    "# just need to cast data type for this column\n",
    "# and one hot encode them later\n",
    "train_df[\"Side\"] = train_df[\"Side\"].astype(\"string\")\n",
    "val_df[\"Side\"] = val_df[\"Side\"].astype(\"string\")\n",
    "test_df[\"Side\"] = test_df[\"Side\"].astype(\"string\")"
   ]
  },
  {
   "cell_type": "markdown",
   "metadata": {},
   "source": [
    "### -- City"
   ]
  },
  {
   "cell_type": "code",
   "execution_count": 40,
   "metadata": {},
   "outputs": [
    {
     "data": {
      "text/plain": [
       "Los Angeles      11937\n",
       "Miami            10956\n",
       "Charlotte         6615\n",
       "Houston           6170\n",
       "Dallas            5910\n",
       "                 ...  \n",
       "Pauls Valley         1\n",
       "Woodhaven            1\n",
       "East Weymouth        1\n",
       "De Mossville         1\n",
       "Wibaux               1\n",
       "Name: City, Length: 8887, dtype: int64"
      ]
     },
     "execution_count": 40,
     "metadata": {},
     "output_type": "execute_result"
    }
   ],
   "source": [
    "train_df[\"City\"].value_counts()"
   ]
  },
  {
   "cell_type": "code",
   "execution_count": 41,
   "metadata": {},
   "outputs": [
    {
     "name": "stdout",
     "output_type": "stream",
     "text": [
      "23\n",
      "13\n",
      "3\n"
     ]
    }
   ],
   "source": [
    "print(train_df[\"City\"].isna().sum())\n",
    "print(val_df[\"City\"].isna().sum())\n",
    "print(test_df[\"City\"].isna().sum())"
   ]
  },
  {
   "cell_type": "code",
   "execution_count": 42,
   "metadata": {},
   "outputs": [
    {
     "data": {
      "text/html": [
       "<div>\n",
       "<style scoped>\n",
       "    .dataframe tbody tr th:only-of-type {\n",
       "        vertical-align: middle;\n",
       "    }\n",
       "\n",
       "    .dataframe tbody tr th {\n",
       "        vertical-align: top;\n",
       "    }\n",
       "\n",
       "    .dataframe thead th {\n",
       "        text-align: right;\n",
       "    }\n",
       "</style>\n",
       "<table border=\"1\" class=\"dataframe\">\n",
       "  <thead>\n",
       "    <tr style=\"text-align: right;\">\n",
       "      <th></th>\n",
       "      <th>Severity</th>\n",
       "      <th>Start_Time</th>\n",
       "      <th>End_Time</th>\n",
       "      <th>Start_Lat</th>\n",
       "      <th>Start_Lng</th>\n",
       "      <th>End_Lat</th>\n",
       "      <th>End_Lng</th>\n",
       "      <th>Distance(mi)</th>\n",
       "      <th>Number</th>\n",
       "      <th>Street</th>\n",
       "      <th>...</th>\n",
       "      <th>Roundabout</th>\n",
       "      <th>Station</th>\n",
       "      <th>Stop</th>\n",
       "      <th>Traffic_Calming</th>\n",
       "      <th>Traffic_Signal</th>\n",
       "      <th>Turning_Loop</th>\n",
       "      <th>Sunrise_Sunset</th>\n",
       "      <th>Civil_Twilight</th>\n",
       "      <th>Nautical_Twilight</th>\n",
       "      <th>Astronomical_Twilight</th>\n",
       "    </tr>\n",
       "  </thead>\n",
       "  <tbody>\n",
       "    <tr>\n",
       "      <th>3373</th>\n",
       "      <td>4</td>\n",
       "      <td>1.484016e+09</td>\n",
       "      <td>1.484038e+09</td>\n",
       "      <td>40.843090</td>\n",
       "      <td>-84.802360</td>\n",
       "      <td>40.841207</td>\n",
       "      <td>-84.841024</td>\n",
       "      <td>2.025</td>\n",
       "      <td>11207.0</td>\n",
       "      <td>n 700 e</td>\n",
       "      <td>...</td>\n",
       "      <td>False</td>\n",
       "      <td>False</td>\n",
       "      <td>False</td>\n",
       "      <td>False</td>\n",
       "      <td>False</td>\n",
       "      <td>False</td>\n",
       "      <td>NaN</td>\n",
       "      <td>NaN</td>\n",
       "      <td>NaN</td>\n",
       "      <td>NaN</td>\n",
       "    </tr>\n",
       "    <tr>\n",
       "      <th>3919</th>\n",
       "      <td>2</td>\n",
       "      <td>1.608619e+09</td>\n",
       "      <td>1.608667e+09</td>\n",
       "      <td>38.912285</td>\n",
       "      <td>-76.934168</td>\n",
       "      <td>38.908867</td>\n",
       "      <td>-76.937192</td>\n",
       "      <td>0.287</td>\n",
       "      <td></td>\n",
       "      <td>eastern ave</td>\n",
       "      <td>...</td>\n",
       "      <td>False</td>\n",
       "      <td>False</td>\n",
       "      <td>False</td>\n",
       "      <td>False</td>\n",
       "      <td>False</td>\n",
       "      <td>False</td>\n",
       "      <td>NaN</td>\n",
       "      <td>NaN</td>\n",
       "      <td>NaN</td>\n",
       "      <td>NaN</td>\n",
       "    </tr>\n",
       "    <tr>\n",
       "      <th>63565</th>\n",
       "      <td>3</td>\n",
       "      <td>1.587169e+09</td>\n",
       "      <td>1.587171e+09</td>\n",
       "      <td>41.036740</td>\n",
       "      <td>-73.675490</td>\n",
       "      <td>41.036740</td>\n",
       "      <td>-73.675490</td>\n",
       "      <td>0.000</td>\n",
       "      <td></td>\n",
       "      <td>king st</td>\n",
       "      <td>...</td>\n",
       "      <td>False</td>\n",
       "      <td>False</td>\n",
       "      <td>False</td>\n",
       "      <td>False</td>\n",
       "      <td>False</td>\n",
       "      <td>False</td>\n",
       "      <td>NaN</td>\n",
       "      <td>NaN</td>\n",
       "      <td>NaN</td>\n",
       "      <td>NaN</td>\n",
       "    </tr>\n",
       "    <tr>\n",
       "      <th>74853</th>\n",
       "      <td>2</td>\n",
       "      <td>1.606802e+09</td>\n",
       "      <td>1.606823e+09</td>\n",
       "      <td>38.912285</td>\n",
       "      <td>-76.934168</td>\n",
       "      <td>38.889809</td>\n",
       "      <td>-76.958621</td>\n",
       "      <td>2.035</td>\n",
       "      <td></td>\n",
       "      <td>eastern ave</td>\n",
       "      <td>...</td>\n",
       "      <td>False</td>\n",
       "      <td>False</td>\n",
       "      <td>False</td>\n",
       "      <td>False</td>\n",
       "      <td>False</td>\n",
       "      <td>False</td>\n",
       "      <td>NaN</td>\n",
       "      <td>NaN</td>\n",
       "      <td>NaN</td>\n",
       "      <td>NaN</td>\n",
       "    </tr>\n",
       "    <tr>\n",
       "      <th>110945</th>\n",
       "      <td>2</td>\n",
       "      <td>1.592954e+09</td>\n",
       "      <td>1.592956e+09</td>\n",
       "      <td>41.036740</td>\n",
       "      <td>-73.675490</td>\n",
       "      <td>41.036740</td>\n",
       "      <td>-73.675490</td>\n",
       "      <td>0.000</td>\n",
       "      <td></td>\n",
       "      <td>king st</td>\n",
       "      <td>...</td>\n",
       "      <td>False</td>\n",
       "      <td>False</td>\n",
       "      <td>False</td>\n",
       "      <td>False</td>\n",
       "      <td>False</td>\n",
       "      <td>False</td>\n",
       "      <td>NaN</td>\n",
       "      <td>NaN</td>\n",
       "      <td>NaN</td>\n",
       "      <td>NaN</td>\n",
       "    </tr>\n",
       "  </tbody>\n",
       "</table>\n",
       "<p>5 rows × 45 columns</p>\n",
       "</div>"
      ],
      "text/plain": [
       "        Severity    Start_Time      End_Time  Start_Lat  Start_Lng    End_Lat  \\\n",
       "3373           4  1.484016e+09  1.484038e+09  40.843090 -84.802360  40.841207   \n",
       "3919           2  1.608619e+09  1.608667e+09  38.912285 -76.934168  38.908867   \n",
       "63565          3  1.587169e+09  1.587171e+09  41.036740 -73.675490  41.036740   \n",
       "74853          2  1.606802e+09  1.606823e+09  38.912285 -76.934168  38.889809   \n",
       "110945         2  1.592954e+09  1.592956e+09  41.036740 -73.675490  41.036740   \n",
       "\n",
       "          End_Lng  Distance(mi)   Number       Street  ... Roundabout Station  \\\n",
       "3373   -84.841024         2.025  11207.0      n 700 e  ...      False   False   \n",
       "3919   -76.937192         0.287           eastern ave  ...      False   False   \n",
       "63565  -73.675490         0.000               king st  ...      False   False   \n",
       "74853  -76.958621         2.035           eastern ave  ...      False   False   \n",
       "110945 -73.675490         0.000               king st  ...      False   False   \n",
       "\n",
       "         Stop Traffic_Calming Traffic_Signal Turning_Loop Sunrise_Sunset  \\\n",
       "3373    False           False          False        False            NaN   \n",
       "3919    False           False          False        False            NaN   \n",
       "63565   False           False          False        False            NaN   \n",
       "74853   False           False          False        False            NaN   \n",
       "110945  False           False          False        False            NaN   \n",
       "\n",
       "       Civil_Twilight Nautical_Twilight  Astronomical_Twilight  \n",
       "3373              NaN               NaN                    NaN  \n",
       "3919              NaN               NaN                    NaN  \n",
       "63565             NaN               NaN                    NaN  \n",
       "74853             NaN               NaN                    NaN  \n",
       "110945            NaN               NaN                    NaN  \n",
       "\n",
       "[5 rows x 45 columns]"
      ]
     },
     "execution_count": 42,
     "metadata": {},
     "output_type": "execute_result"
    }
   ],
   "source": [
    "train_df[train_df[\"City\"].isna() == True].head()"
   ]
  },
  {
   "cell_type": "markdown",
   "metadata": {},
   "source": [
    "* After some manual Googling on Google Maps with the latitude and longitude, I found that all these locations are in a border between 2 states, so the city is left null\n",
    "* Now, we can try to impute the city by reverse geocoding the longitude and latitude and take the nearest city\n",
    "* But other columns such as `Sunrise_Sunset`,`Civil_Twilight`, `Nautical_Twilight`, `Astronomical_Twilight` are also null and imputing them is going to take a lot more time unnecessarily\n",
    "* And since the amount of nulls are extremely small, we can just fill the nulls with an empty string"
   ]
  },
  {
   "cell_type": "code",
   "execution_count": 43,
   "metadata": {},
   "outputs": [],
   "source": [
    "train_df[\"City\"] = train_df[\"City\"].fillna('')\n",
    "val_df[\"City\"] = val_df[\"City\"].fillna('')\n",
    "test_df[\"City\"] = test_df[\"City\"].fillna('')"
   ]
  },
  {
   "cell_type": "code",
   "execution_count": 44,
   "metadata": {},
   "outputs": [
    {
     "name": "stdout",
     "output_type": "stream",
     "text": [
      "0\n",
      "0\n",
      "0\n"
     ]
    }
   ],
   "source": [
    "# sanity check\n",
    "print(train_df[\"City\"].isna().sum())\n",
    "print(val_df[\"City\"].isna().sum())\n",
    "print(test_df[\"City\"].isna().sum())"
   ]
  },
  {
   "cell_type": "code",
   "execution_count": 45,
   "metadata": {},
   "outputs": [
    {
     "data": {
      "text/plain": [
       "los angeles        11937\n",
       "miami              10956\n",
       "charlotte           6615\n",
       "houston             6170\n",
       "dallas              5910\n",
       "                   ...  \n",
       "gap mills              1\n",
       "petersham              1\n",
       "sherwood forest        1\n",
       "avella                 1\n",
       "wibaux                 1\n",
       "Name: City, Length: 8855, dtype: int64"
      ]
     },
     "execution_count": 45,
     "metadata": {},
     "output_type": "execute_result"
    }
   ],
   "source": [
    "# normalizing by lower everything\n",
    "train_df[\"City\"] = train_df[\"City\"].apply(lambda x : x.lower())\n",
    "val_df[\"City\"] = val_df[\"City\"].apply(lambda x : x.lower())\n",
    "test_df[\"City\"] = test_df[\"City\"].apply(lambda x : x.lower())\n",
    "\n",
    "train_df[\"City\"].value_counts()"
   ]
  },
  {
   "cell_type": "code",
   "execution_count": 46,
   "metadata": {},
   "outputs": [],
   "source": [
    "# cast to string as it makes the most sense\n",
    "train_df[\"City\"] = train_df[\"City\"].astype(\"string\")\n",
    "val_df[\"City\"] = val_df[\"City\"].astype(\"string\")\n",
    "test_df[\"City\"] = test_df[\"City\"].astype(\"string\")"
   ]
  },
  {
   "cell_type": "markdown",
   "metadata": {},
   "source": [
    "### -- County, State"
   ]
  },
  {
   "cell_type": "code",
   "execution_count": 47,
   "metadata": {},
   "outputs": [
    {
     "name": "stdout",
     "output_type": "stream",
     "text": [
      "Los Angeles       41629\n",
      "Orange            15135\n",
      "Miami-Dade        14317\n",
      "San Bernardino     9138\n",
      "San Diego          7943\n",
      "                  ...  \n",
      "Griggs                1\n",
      "Trimble               1\n",
      "Grenada               1\n",
      "Ogemaw                1\n",
      "Wibaux                1\n",
      "Name: County, Length: 1535, dtype: int64\n",
      "CA    134389\n",
      "FL     46422\n",
      "OR     26223\n",
      "TX     22424\n",
      "NY     18148\n",
      "MN     15854\n",
      "VA     15295\n",
      "NC     15103\n",
      "PA     12872\n",
      "IL     12403\n",
      "MD     10437\n",
      "UT      9929\n",
      "GA      9292\n",
      "AZ      9105\n",
      "NJ      8977\n",
      "SC      8462\n",
      "MI      8290\n",
      "WA      6874\n",
      "OH      6660\n",
      "TN      6658\n",
      "CO      5900\n",
      "LA      5747\n",
      "MO      5113\n",
      "CT      4537\n",
      "IN      3514\n",
      "AL      2831\n",
      "WI      2394\n",
      "MA      1833\n",
      "KY      1719\n",
      "OK      1647\n",
      "KS      1520\n",
      "IA      1441\n",
      "AR      1322\n",
      "ID      1239\n",
      "DC      1190\n",
      "NH      1166\n",
      "RI      1126\n",
      "NV      1061\n",
      "WV       997\n",
      "MT       958\n",
      "MS       853\n",
      "ME       699\n",
      "DE       699\n",
      "NE       670\n",
      "NM       444\n",
      "ND       126\n",
      "VT        96\n",
      "WY        84\n",
      "SD        76\n",
      "Name: State, dtype: int64\n"
     ]
    }
   ],
   "source": [
    "print(train_df[\"County\"].value_counts())\n",
    "print(train_df[\"State\"].value_counts())"
   ]
  },
  {
   "cell_type": "code",
   "execution_count": 48,
   "metadata": {},
   "outputs": [
    {
     "name": "stdout",
     "output_type": "stream",
     "text": [
      "0\n",
      "0\n",
      "0\n"
     ]
    }
   ],
   "source": [
    "print(train_df[\"County\"].isna().sum())\n",
    "print(val_df[\"County\"].isna().sum())\n",
    "print(test_df[\"County\"].isna().sum())"
   ]
  },
  {
   "cell_type": "code",
   "execution_count": 49,
   "metadata": {},
   "outputs": [
    {
     "name": "stdout",
     "output_type": "stream",
     "text": [
      "0\n",
      "0\n",
      "0\n"
     ]
    }
   ],
   "source": [
    "print(train_df[\"State\"].isna().sum())\n",
    "print(val_df[\"State\"].isna().sum())\n",
    "print(test_df[\"State\"].isna().sum())"
   ]
  },
  {
   "cell_type": "code",
   "execution_count": 50,
   "metadata": {},
   "outputs": [
    {
     "name": "stdout",
     "output_type": "stream",
     "text": [
      "los angeles       41629\n",
      "orange            15135\n",
      "miami-dade        14317\n",
      "san bernardino     9138\n",
      "san diego          7943\n",
      "                  ...  \n",
      "jeff davis            1\n",
      "cotton                1\n",
      "concordia             1\n",
      "republic              1\n",
      "wibaux                1\n",
      "Name: County, Length: 1522, dtype: int64\n"
     ]
    },
    {
     "data": {
      "text/plain": [
       "ca    134389\n",
       "fl     46422\n",
       "or     26223\n",
       "tx     22424\n",
       "ny     18148\n",
       "mn     15854\n",
       "va     15295\n",
       "nc     15103\n",
       "pa     12872\n",
       "il     12403\n",
       "md     10437\n",
       "ut      9929\n",
       "ga      9292\n",
       "az      9105\n",
       "nj      8977\n",
       "sc      8462\n",
       "mi      8290\n",
       "wa      6874\n",
       "oh      6660\n",
       "tn      6658\n",
       "co      5900\n",
       "la      5747\n",
       "mo      5113\n",
       "ct      4537\n",
       "in      3514\n",
       "al      2831\n",
       "wi      2394\n",
       "ma      1833\n",
       "ky      1719\n",
       "ok      1647\n",
       "ks      1520\n",
       "ia      1441\n",
       "ar      1322\n",
       "id      1239\n",
       "dc      1190\n",
       "nh      1166\n",
       "ri      1126\n",
       "nv      1061\n",
       "wv       997\n",
       "mt       958\n",
       "ms       853\n",
       "me       699\n",
       "de       699\n",
       "ne       670\n",
       "nm       444\n",
       "nd       126\n",
       "vt        96\n",
       "wy        84\n",
       "sd        76\n",
       "Name: State, dtype: int64"
      ]
     },
     "execution_count": 50,
     "metadata": {},
     "output_type": "execute_result"
    }
   ],
   "source": [
    "# normalizing by lower everything\n",
    "train_df[\"County\"] = train_df[\"County\"].apply(lambda x : x.lower())\n",
    "val_df[\"County\"] = val_df[\"County\"].apply(lambda x : x.lower())\n",
    "test_df[\"County\"] = test_df[\"County\"].apply(lambda x : x.lower())\n",
    "\n",
    "print(train_df[\"County\"].value_counts())\n",
    "\n",
    "train_df[\"State\"] = train_df[\"State\"].apply(lambda x : x.lower())\n",
    "val_df[\"State\"] = val_df[\"State\"].apply(lambda x : x.lower())\n",
    "test_df[\"State\"] = test_df[\"State\"].apply(lambda x : x.lower())\n",
    "\n",
    "train_df[\"State\"].value_counts()"
   ]
  },
  {
   "cell_type": "code",
   "execution_count": 51,
   "metadata": {},
   "outputs": [],
   "source": [
    "# cast to string as it makes the most sense\n",
    "train_df[\"County\"] = train_df[\"County\"].astype(\"string\")\n",
    "val_df[\"County\"] = val_df[\"County\"].astype(\"string\")\n",
    "test_df[\"County\"] = test_df[\"County\"].astype(\"string\")\n",
    "\n",
    "train_df[\"State\"] = train_df[\"State\"].astype(\"string\")\n",
    "val_df[\"State\"] = val_df[\"State\"].astype(\"string\")\n",
    "test_df[\"State\"] = test_df[\"State\"].astype(\"string\")"
   ]
  },
  {
   "cell_type": "markdown",
   "metadata": {},
   "source": [
    "### -- Zipcode"
   ]
  },
  {
   "cell_type": "code",
   "execution_count": 52,
   "metadata": {},
   "outputs": [
    {
     "data": {
      "text/plain": [
       "91761         1119\n",
       "91706          868\n",
       "92407          827\n",
       "92507          818\n",
       "92324          675\n",
       "              ... \n",
       "22911-8224       1\n",
       "55355-4614       1\n",
       "97447-9709       1\n",
       "30274-4045       1\n",
       "33037-2816       1\n",
       "Name: Zipcode, Length: 83286, dtype: int64"
      ]
     },
     "execution_count": 52,
     "metadata": {},
     "output_type": "execute_result"
    }
   ],
   "source": [
    "train_df[\"Zipcode\"].value_counts()"
   ]
  },
  {
   "cell_type": "code",
   "execution_count": 53,
   "metadata": {},
   "outputs": [
    {
     "name": "stdout",
     "output_type": "stream",
     "text": [
      "277\n",
      "99\n",
      "82\n"
     ]
    }
   ],
   "source": [
    "print(train_df[\"Zipcode\"].isna().sum())\n",
    "print(val_df[\"Zipcode\"].isna().sum())\n",
    "print(test_df[\"Zipcode\"].isna().sum())"
   ]
  },
  {
   "cell_type": "markdown",
   "metadata": {},
   "source": [
    "* Same story as the `City` column but these places are generally in areas where there are no residence"
   ]
  },
  {
   "cell_type": "code",
   "execution_count": 54,
   "metadata": {},
   "outputs": [],
   "source": [
    "train_df[\"Zipcode\"] = train_df[\"Zipcode\"].fillna('')\n",
    "val_df[\"Zipcode\"] = val_df[\"Zipcode\"].fillna('')\n",
    "test_df[\"Zipcode\"] = test_df[\"Zipcode\"].fillna('')"
   ]
  },
  {
   "cell_type": "code",
   "execution_count": 55,
   "metadata": {},
   "outputs": [
    {
     "name": "stdout",
     "output_type": "stream",
     "text": [
      "0\n",
      "0\n",
      "0\n"
     ]
    }
   ],
   "source": [
    "# sanity check\n",
    "print(train_df[\"Zipcode\"].isna().sum())\n",
    "print(val_df[\"Zipcode\"].isna().sum())\n",
    "print(test_df[\"Zipcode\"].isna().sum())"
   ]
  },
  {
   "cell_type": "code",
   "execution_count": 56,
   "metadata": {},
   "outputs": [],
   "source": [
    "# cast to string as it makes the most sense\n",
    "train_df[\"Zipcode\"] = train_df[\"Zipcode\"].astype(\"string\")\n",
    "val_df[\"Zipcode\"] = val_df[\"Zipcode\"].astype(\"string\")\n",
    "test_df[\"Zipcode\"] = test_df[\"Zipcode\"].astype(\"string\")"
   ]
  },
  {
   "cell_type": "markdown",
   "metadata": {},
   "source": [
    "### -- Country"
   ]
  },
  {
   "cell_type": "code",
   "execution_count": 57,
   "metadata": {},
   "outputs": [
    {
     "data": {
      "text/plain": [
       "US    454819\n",
       "Name: Country, dtype: int64"
      ]
     },
     "execution_count": 57,
     "metadata": {},
     "output_type": "execute_result"
    }
   ],
   "source": [
    "train_df[\"Country\"].value_counts()"
   ]
  },
  {
   "cell_type": "markdown",
   "metadata": {},
   "source": [
    "* We're going to drop this column as it is pretty redundant because the dataset is in America only, so having a column with only 1 value is not going to help much"
   ]
  },
  {
   "cell_type": "code",
   "execution_count": 58,
   "metadata": {},
   "outputs": [],
   "source": [
    "train_df = train_df.drop(\"Country\", axis=1)\n",
    "val_df = val_df.drop(\"Country\", axis=1)\n",
    "test_df = test_df.drop(\"Country\", axis=1)"
   ]
  },
  {
   "cell_type": "markdown",
   "metadata": {},
   "source": [
    "### -- Timezone"
   ]
  },
  {
   "cell_type": "code",
   "execution_count": 59,
   "metadata": {},
   "outputs": [
    {
     "data": {
      "text/plain": [
       "US/Eastern     176751\n",
       "US/Pacific     168972\n",
       "US/Central      79645\n",
       "US/Mountain     28761\n",
       "Name: Timezone, dtype: int64"
      ]
     },
     "execution_count": 59,
     "metadata": {},
     "output_type": "execute_result"
    }
   ],
   "source": [
    "train_df[\"Timezone\"].value_counts()"
   ]
  },
  {
   "cell_type": "code",
   "execution_count": 60,
   "metadata": {},
   "outputs": [
    {
     "name": "stdout",
     "output_type": "stream",
     "text": [
      "690\n",
      "240\n",
      "245\n"
     ]
    }
   ],
   "source": [
    "print(train_df[\"Timezone\"].isna().sum())\n",
    "print(val_df[\"Timezone\"].isna().sum())\n",
    "print(test_df[\"Timezone\"].isna().sum())"
   ]
  },
  {
   "cell_type": "code",
   "execution_count": 61,
   "metadata": {},
   "outputs": [
    {
     "data": {
      "text/html": [
       "<div>\n",
       "<style scoped>\n",
       "    .dataframe tbody tr th:only-of-type {\n",
       "        vertical-align: middle;\n",
       "    }\n",
       "\n",
       "    .dataframe tbody tr th {\n",
       "        vertical-align: top;\n",
       "    }\n",
       "\n",
       "    .dataframe thead th {\n",
       "        text-align: right;\n",
       "    }\n",
       "</style>\n",
       "<table border=\"1\" class=\"dataframe\">\n",
       "  <thead>\n",
       "    <tr style=\"text-align: right;\">\n",
       "      <th></th>\n",
       "      <th>Severity</th>\n",
       "      <th>Start_Time</th>\n",
       "      <th>End_Time</th>\n",
       "      <th>Start_Lat</th>\n",
       "      <th>Start_Lng</th>\n",
       "      <th>End_Lat</th>\n",
       "      <th>End_Lng</th>\n",
       "      <th>Distance(mi)</th>\n",
       "      <th>Number</th>\n",
       "      <th>Street</th>\n",
       "      <th>...</th>\n",
       "      <th>Roundabout</th>\n",
       "      <th>Station</th>\n",
       "      <th>Stop</th>\n",
       "      <th>Traffic_Calming</th>\n",
       "      <th>Traffic_Signal</th>\n",
       "      <th>Turning_Loop</th>\n",
       "      <th>Sunrise_Sunset</th>\n",
       "      <th>Civil_Twilight</th>\n",
       "      <th>Nautical_Twilight</th>\n",
       "      <th>Astronomical_Twilight</th>\n",
       "    </tr>\n",
       "  </thead>\n",
       "  <tbody>\n",
       "    <tr>\n",
       "      <th>860</th>\n",
       "      <td>2</td>\n",
       "      <td>1.544394e+09</td>\n",
       "      <td>1.544408e+09</td>\n",
       "      <td>44.160861</td>\n",
       "      <td>-121.358016</td>\n",
       "      <td>44.160845</td>\n",
       "      <td>-121.357964</td>\n",
       "      <td>0.003</td>\n",
       "      <td>64736.0</td>\n",
       "      <td>highway 20</td>\n",
       "      <td>...</td>\n",
       "      <td>False</td>\n",
       "      <td>False</td>\n",
       "      <td>False</td>\n",
       "      <td>False</td>\n",
       "      <td>False</td>\n",
       "      <td>False</td>\n",
       "      <td>Night</td>\n",
       "      <td>Night</td>\n",
       "      <td>Night</td>\n",
       "      <td>Night</td>\n",
       "    </tr>\n",
       "    <tr>\n",
       "      <th>970</th>\n",
       "      <td>2</td>\n",
       "      <td>1.606582e+09</td>\n",
       "      <td>1.606598e+09</td>\n",
       "      <td>30.519458</td>\n",
       "      <td>-87.143137</td>\n",
       "      <td>30.529237</td>\n",
       "      <td>-87.130063</td>\n",
       "      <td>1.031</td>\n",
       "      <td></td>\n",
       "      <td>fl-8 e</td>\n",
       "      <td>...</td>\n",
       "      <td>False</td>\n",
       "      <td>False</td>\n",
       "      <td>False</td>\n",
       "      <td>False</td>\n",
       "      <td>False</td>\n",
       "      <td>False</td>\n",
       "      <td>Night</td>\n",
       "      <td>Night</td>\n",
       "      <td>Night</td>\n",
       "      <td>Night</td>\n",
       "    </tr>\n",
       "    <tr>\n",
       "      <th>1102</th>\n",
       "      <td>2</td>\n",
       "      <td>1.494047e+09</td>\n",
       "      <td>1.494068e+09</td>\n",
       "      <td>38.990740</td>\n",
       "      <td>-76.371660</td>\n",
       "      <td>38.983330</td>\n",
       "      <td>-76.340040</td>\n",
       "      <td>1.774</td>\n",
       "      <td></td>\n",
       "      <td>william preston lane jr memorial brg</td>\n",
       "      <td>...</td>\n",
       "      <td>False</td>\n",
       "      <td>False</td>\n",
       "      <td>False</td>\n",
       "      <td>False</td>\n",
       "      <td>False</td>\n",
       "      <td>False</td>\n",
       "      <td>Day</td>\n",
       "      <td>Day</td>\n",
       "      <td>Day</td>\n",
       "      <td>Day</td>\n",
       "    </tr>\n",
       "    <tr>\n",
       "      <th>1408</th>\n",
       "      <td>2</td>\n",
       "      <td>1.541625e+09</td>\n",
       "      <td>1.541641e+09</td>\n",
       "      <td>44.875664</td>\n",
       "      <td>-67.403551</td>\n",
       "      <td>44.875660</td>\n",
       "      <td>-67.403550</td>\n",
       "      <td>0.000</td>\n",
       "      <td>595.0</td>\n",
       "      <td>cathance rd</td>\n",
       "      <td>...</td>\n",
       "      <td>False</td>\n",
       "      <td>False</td>\n",
       "      <td>False</td>\n",
       "      <td>False</td>\n",
       "      <td>False</td>\n",
       "      <td>False</td>\n",
       "      <td>Night</td>\n",
       "      <td>Night</td>\n",
       "      <td>Night</td>\n",
       "      <td>Night</td>\n",
       "    </tr>\n",
       "    <tr>\n",
       "      <th>2026</th>\n",
       "      <td>2</td>\n",
       "      <td>1.536138e+09</td>\n",
       "      <td>1.536153e+09</td>\n",
       "      <td>44.102670</td>\n",
       "      <td>-121.306120</td>\n",
       "      <td>44.101210</td>\n",
       "      <td>-121.305170</td>\n",
       "      <td>0.111</td>\n",
       "      <td>63397.0</td>\n",
       "      <td>highway 20</td>\n",
       "      <td>...</td>\n",
       "      <td>False</td>\n",
       "      <td>False</td>\n",
       "      <td>False</td>\n",
       "      <td>False</td>\n",
       "      <td>False</td>\n",
       "      <td>False</td>\n",
       "      <td>Day</td>\n",
       "      <td>Day</td>\n",
       "      <td>Day</td>\n",
       "      <td>Day</td>\n",
       "    </tr>\n",
       "  </tbody>\n",
       "</table>\n",
       "<p>5 rows × 44 columns</p>\n",
       "</div>"
      ],
      "text/plain": [
       "      Severity    Start_Time      End_Time  Start_Lat   Start_Lng    End_Lat  \\\n",
       "860          2  1.544394e+09  1.544408e+09  44.160861 -121.358016  44.160845   \n",
       "970          2  1.606582e+09  1.606598e+09  30.519458  -87.143137  30.529237   \n",
       "1102         2  1.494047e+09  1.494068e+09  38.990740  -76.371660  38.983330   \n",
       "1408         2  1.541625e+09  1.541641e+09  44.875664  -67.403551  44.875660   \n",
       "2026         2  1.536138e+09  1.536153e+09  44.102670 -121.306120  44.101210   \n",
       "\n",
       "         End_Lng  Distance(mi)   Number                                Street  \\\n",
       "860  -121.357964         0.003  64736.0                            highway 20   \n",
       "970   -87.130063         1.031                                         fl-8 e   \n",
       "1102  -76.340040         1.774           william preston lane jr memorial brg   \n",
       "1408  -67.403550         0.000    595.0                           cathance rd   \n",
       "2026 -121.305170         0.111  63397.0                            highway 20   \n",
       "\n",
       "      ... Roundabout Station   Stop Traffic_Calming Traffic_Signal  \\\n",
       "860   ...      False   False  False           False          False   \n",
       "970   ...      False   False  False           False          False   \n",
       "1102  ...      False   False  False           False          False   \n",
       "1408  ...      False   False  False           False          False   \n",
       "2026  ...      False   False  False           False          False   \n",
       "\n",
       "     Turning_Loop Sunrise_Sunset Civil_Twilight  Nautical_Twilight  \\\n",
       "860         False          Night          Night              Night   \n",
       "970         False          Night          Night              Night   \n",
       "1102        False            Day            Day                Day   \n",
       "1408        False          Night          Night              Night   \n",
       "2026        False            Day            Day                Day   \n",
       "\n",
       "      Astronomical_Twilight  \n",
       "860                   Night  \n",
       "970                   Night  \n",
       "1102                    Day  \n",
       "1408                  Night  \n",
       "2026                    Day  \n",
       "\n",
       "[5 rows x 44 columns]"
      ]
     },
     "execution_count": 61,
     "metadata": {},
     "output_type": "execute_result"
    }
   ],
   "source": [
    "train_df[train_df[\"Timezone\"].isna() == True].head()"
   ]
  },
  {
   "cell_type": "markdown",
   "metadata": {},
   "source": [
    "* Thought it might look like the same situtation as the `City` and `Zipcode` columns at first, this column is different because we can actually impute the nulls\n",
    "* Taking the start latitude and longitude, we can look them to see what timezone they belong to\n",
    "* Getting the timezone is being done in another helper function in a different python file as to not bloat this notebook"
   ]
  },
  {
   "cell_type": "code",
   "execution_count": 62,
   "metadata": {},
   "outputs": [],
   "source": [
    "train_df[\"Timezone\"] = \\\n",
    "    train_df[[\"Start_Lat\", \"Start_Lng\", \"Timezone\"]].apply(\n",
    "        lambda x : get_tz(x[\"Start_Lat\"],x[\"Start_Lng\"]) if pd.isna(x[\"Timezone\"]) else x[\"Timezone\"],\n",
    "        axis=1\n",
    "    )\n",
    "\n",
    "val_df[\"Timezone\"] = \\\n",
    "    val_df[[\"Start_Lat\", \"Start_Lng\", \"Timezone\"]].apply(\n",
    "        lambda x : get_tz(x[\"Start_Lat\"],x[\"Start_Lng\"]) if pd.isna(x[\"Timezone\"]) else x[\"Timezone\"],\n",
    "        axis=1\n",
    "    )\n",
    "\n",
    "test_df[\"Timezone\"] = \\\n",
    "    test_df[[\"Start_Lat\", \"Start_Lng\", \"Timezone\"]].apply(\n",
    "        lambda x : get_tz(x[\"Start_Lat\"],x[\"Start_Lng\"]) if pd.isna(x[\"Timezone\"]) else x[\"Timezone\"],\n",
    "        axis=1\n",
    "    )"
   ]
  },
  {
   "cell_type": "code",
   "execution_count": 63,
   "metadata": {},
   "outputs": [
    {
     "name": "stdout",
     "output_type": "stream",
     "text": [
      "US/Eastern     176987\n",
      "US/Pacific     169342\n",
      "US/Central      79665\n",
      "US/Mountain     28825\n",
      "Name: Timezone, dtype: int64\n",
      "0\n",
      "0\n",
      "0\n"
     ]
    }
   ],
   "source": [
    "# sanity check\n",
    "print(train_df[\"Timezone\"].value_counts())\n",
    "print(train_df[\"Timezone\"].isna().sum())\n",
    "print(val_df[\"Timezone\"].isna().sum())\n",
    "print(test_df[\"Timezone\"].isna().sum())"
   ]
  },
  {
   "cell_type": "code",
   "execution_count": 64,
   "metadata": {},
   "outputs": [],
   "source": [
    "# cast to string as it makes the most sense\n",
    "train_df[\"Timezone\"] = train_df[\"Timezone\"].astype(\"string\")\n",
    "val_df[\"Timezone\"] = val_df[\"Timezone\"].astype(\"string\")\n",
    "test_df[\"Timezone\"] = test_df[\"Timezone\"].astype(\"string\")"
   ]
  },
  {
   "cell_type": "markdown",
   "metadata": {},
   "source": [
    "### -- Airport_Code"
   ]
  },
  {
   "cell_type": "code",
   "execution_count": 65,
   "metadata": {},
   "outputs": [
    {
     "data": {
      "text/plain": [
       "KCQT    9009\n",
       "KEMT    5245\n",
       "KFUL    4995\n",
       "KSNA    4730\n",
       "KCLT    4613\n",
       "        ... \n",
       "KW43       1\n",
       "KOXV       1\n",
       "KGUN       1\n",
       "KJWG       1\n",
       "KIDP       1\n",
       "Name: Airport_Code, Length: 1884, dtype: int64"
      ]
     },
     "execution_count": 65,
     "metadata": {},
     "output_type": "execute_result"
    }
   ],
   "source": [
    "train_df[\"Airport_Code\"].value_counts()"
   ]
  },
  {
   "cell_type": "code",
   "execution_count": 66,
   "metadata": {},
   "outputs": [
    {
     "name": "stdout",
     "output_type": "stream",
     "text": [
      "1294\n",
      "428\n",
      "431\n"
     ]
    }
   ],
   "source": [
    "print(train_df[\"Airport_Code\"].isna().sum())\n",
    "print(val_df[\"Airport_Code\"].isna().sum())\n",
    "print(test_df[\"Airport_Code\"].isna().sum())"
   ]
  },
  {
   "cell_type": "markdown",
   "metadata": {},
   "source": [
    "* We can also try to impute here but it's too difficult and going to take up a lot of time\n",
    "* So we'll just fill the nulls with an empty string"
   ]
  },
  {
   "cell_type": "code",
   "execution_count": 67,
   "metadata": {},
   "outputs": [],
   "source": [
    "train_df[\"Airport_Code\"] = train_df[\"Airport_Code\"].fillna('')\n",
    "val_df[\"Airport_Code\"] = val_df[\"Airport_Code\"].fillna('')\n",
    "test_df[\"Airport_Code\"] = test_df[\"Airport_Code\"].fillna('')"
   ]
  },
  {
   "cell_type": "code",
   "execution_count": 68,
   "metadata": {},
   "outputs": [
    {
     "name": "stdout",
     "output_type": "stream",
     "text": [
      "0\n",
      "0\n",
      "0\n"
     ]
    }
   ],
   "source": [
    "# sanity check\n",
    "print(train_df[\"Airport_Code\"].isna().sum())\n",
    "print(val_df[\"Airport_Code\"].isna().sum())\n",
    "print(test_df[\"Airport_Code\"].isna().sum())"
   ]
  },
  {
   "cell_type": "code",
   "execution_count": 69,
   "metadata": {},
   "outputs": [
    {
     "data": {
      "text/plain": [
       "kcqt    9009\n",
       "kemt    5245\n",
       "kful    4995\n",
       "ksna    4730\n",
       "kclt    4613\n",
       "        ... \n",
       "kckm       1\n",
       "kbwp       1\n",
       "kbie       1\n",
       "krtn       1\n",
       "kidp       1\n",
       "Name: Airport_Code, Length: 1885, dtype: int64"
      ]
     },
     "execution_count": 69,
     "metadata": {},
     "output_type": "execute_result"
    }
   ],
   "source": [
    "# normalizing by lower everything\n",
    "train_df[\"Airport_Code\"] = train_df[\"Airport_Code\"].apply(lambda x : x.lower())\n",
    "val_df[\"Airport_Code\"] = val_df[\"Airport_Code\"].apply(lambda x : x.lower())\n",
    "test_df[\"Airport_Code\"] = test_df[\"Airport_Code\"].apply(lambda x : x.lower())\n",
    "\n",
    "train_df[\"Airport_Code\"].value_counts()"
   ]
  },
  {
   "cell_type": "code",
   "execution_count": 70,
   "metadata": {},
   "outputs": [],
   "source": [
    "# cast to string as it makes the most sense\n",
    "train_df[\"Airport_Code\"] = train_df[\"Airport_Code\"].astype(\"string\")\n",
    "val_df[\"Airport_Code\"] = val_df[\"Airport_Code\"].astype(\"string\")\n",
    "test_df[\"Airport_Code\"] = test_df[\"Airport_Code\"].astype(\"string\")"
   ]
  },
  {
   "cell_type": "markdown",
   "metadata": {},
   "source": [
    "### -- Weather_Timestamp"
   ]
  },
  {
   "cell_type": "code",
   "execution_count": 71,
   "metadata": {},
   "outputs": [
    {
     "data": {
      "text/plain": [
       "0         2020-12-17 13:53:00\n",
       "1         2017-04-27 14:20:00\n",
       "2         2020-12-29 00:53:00\n",
       "3         2019-11-12 15:54:00\n",
       "4         2020-01-10 19:32:00\n",
       "                 ...         \n",
       "454814    2020-05-20 16:53:00\n",
       "454815                    NaN\n",
       "454816    2017-05-25 05:53:00\n",
       "454817    2017-01-19 17:53:00\n",
       "454818    2017-10-05 15:45:00\n",
       "Name: Weather_Timestamp, Length: 454819, dtype: object"
      ]
     },
     "execution_count": 71,
     "metadata": {},
     "output_type": "execute_result"
    }
   ],
   "source": [
    "train_df['Weather_Timestamp']"
   ]
  },
  {
   "cell_type": "code",
   "execution_count": 72,
   "metadata": {},
   "outputs": [
    {
     "name": "stdout",
     "output_type": "stream",
     "text": [
      "9104\n",
      "3050\n",
      "3013\n"
     ]
    }
   ],
   "source": [
    "print(train_df[\"Weather_Timestamp\"].isna().sum())\n",
    "print(val_df[\"Weather_Timestamp\"].isna().sum())\n",
    "print(test_df[\"Weather_Timestamp\"].isna().sum())"
   ]
  },
  {
   "cell_type": "code",
   "execution_count": 73,
   "metadata": {},
   "outputs": [
    {
     "name": "stdout",
     "output_type": "stream",
     "text": [
      "False    445715\n",
      "Name: Weather_Timestamp, dtype: int64\n",
      "False    148556\n",
      "Name: Weather_Timestamp, dtype: int64\n",
      "False    148594\n",
      "Name: Weather_Timestamp, dtype: int64\n"
     ]
    }
   ],
   "source": [
    "with warnings.catch_warnings(record=True):\n",
    "    # let's see if there are any microsecond parts like the other timestamp columns\n",
    "    print(train_df['Weather_Timestamp'].str.contains(regex_str).value_counts())\n",
    "    print(val_df['Weather_Timestamp'].str.contains(regex_str).value_counts())\n",
    "    print(test_df['Weather_Timestamp'].str.contains(regex_str).value_counts())"
   ]
  },
  {
   "cell_type": "markdown",
   "metadata": {},
   "source": [
    "* No microseconds part, just nulls, so we don't need to do the truncation\n",
    "* We will convert the timestamp to unix timestamp like `Start_Time` and `End_Time`\n",
    "* If timestamp is null, we will impute by getting the average of `Start_Time` and `End_Time`"
   ]
  },
  {
   "cell_type": "code",
   "execution_count": 74,
   "metadata": {},
   "outputs": [],
   "source": [
    "train_df['Weather_Timestamp'] = \\\n",
    "    train_df[['Start_Time','End_Time','Weather_Timestamp']].apply(\n",
    "        lambda t : datetime_obj.strptime(t['Weather_Timestamp'], format_str).timestamp() \\\n",
    "            if not pd.isna(t['Weather_Timestamp']) \\\n",
    "            else round(t['Start_Time'] + t['End_Time'] / 2, ndigits=1),\n",
    "        axis=1\n",
    "    )\n",
    "\n",
    "val_df['Weather_Timestamp'] = \\\n",
    "    val_df[['Start_Time','End_Time','Weather_Timestamp']].apply(\n",
    "        lambda t : datetime_obj.strptime(t['Weather_Timestamp'], format_str).timestamp() \\\n",
    "            if not pd.isna(t['Weather_Timestamp']) \\\n",
    "            else round(t['Start_Time'] + t['End_Time'] / 2, ndigits=1),\n",
    "        axis=1\n",
    "    )\n",
    "\n",
    "test_df['Weather_Timestamp'] = \\\n",
    "    test_df[['Start_Time','End_Time','Weather_Timestamp']].apply(\n",
    "        lambda t : datetime_obj.strptime(t['Weather_Timestamp'], format_str).timestamp() \\\n",
    "            if not pd.isna(t['Weather_Timestamp']) \\\n",
    "            else round(t['Start_Time'] + t['End_Time'] / 2, ndigits=1),\n",
    "        axis=1\n",
    "    )"
   ]
  },
  {
   "cell_type": "code",
   "execution_count": 75,
   "metadata": {},
   "outputs": [
    {
     "name": "stdout",
     "output_type": "stream",
     "text": [
      "0\n",
      "0\n",
      "0\n"
     ]
    }
   ],
   "source": [
    "# sanity check\n",
    "print(train_df[\"Weather_Timestamp\"].isna().sum())\n",
    "print(val_df[\"Weather_Timestamp\"].isna().sum())\n",
    "print(test_df[\"Weather_Timestamp\"].isna().sum())"
   ]
  },
  {
   "cell_type": "markdown",
   "metadata": {},
   "source": [
    "### -- Temperature(F)"
   ]
  },
  {
   "cell_type": "code",
   "execution_count": 76,
   "metadata": {},
   "outputs": [
    {
     "data": {
      "text/plain": [
       "0         81.0\n",
       "1         42.1\n",
       "2         47.0\n",
       "3         56.0\n",
       "4         47.0\n",
       "          ... \n",
       "454814    71.0\n",
       "454815     NaN\n",
       "454816    57.0\n",
       "454817    53.1\n",
       "454818    68.0\n",
       "Name: Temperature(F), Length: 454819, dtype: float64"
      ]
     },
     "execution_count": 76,
     "metadata": {},
     "output_type": "execute_result"
    }
   ],
   "source": [
    "train_df['Temperature(F)']"
   ]
  },
  {
   "cell_type": "code",
   "execution_count": 77,
   "metadata": {},
   "outputs": [
    {
     "name": "stdout",
     "output_type": "stream",
     "text": [
      "12910\n",
      "4312\n",
      "4345\n"
     ]
    }
   ],
   "source": [
    "print(train_df['Temperature(F)'].isna().sum())\n",
    "print(val_df['Temperature(F)'].isna().sum())\n",
    "print(test_df['Temperature(F)'].isna().sum())"
   ]
  },
  {
   "cell_type": "code",
   "execution_count": 78,
   "metadata": {},
   "outputs": [
    {
     "data": {
      "text/plain": [
       "<AxesSubplot:>"
      ]
     },
     "execution_count": 78,
     "metadata": {},
     "output_type": "execute_result"
    },
    {
     "data": {
      "image/png": "[encoded data removed]",
      "text/plain": [
       "<Figure size 432x288 with 1 Axes>"
      ]
     },
     "metadata": {
      "needs_background": "light"
     },
     "output_type": "display_data"
    }
   ],
   "source": [
    "# check the distribution\n",
    "train_df[\"Temperature(F)\"].hist()"
   ]
  },
  {
   "cell_type": "markdown",
   "metadata": {},
   "source": [
    "* For this column, we'll try to impute the nulls with the average temperature"
   ]
  },
  {
   "cell_type": "code",
   "execution_count": 79,
   "metadata": {},
   "outputs": [],
   "source": [
    "train_df[\"Temperature(F)\"] = train_df[\"Temperature(F)\"].fillna(round(train_df[\"Temperature(F)\"].mean(), ndigits=1))\n",
    "val_df[\"Temperature(F)\"] = val_df[\"Temperature(F)\"].fillna(round(val_df[\"Temperature(F)\"].mean(), ndigits=1))\n",
    "test_df[\"Temperature(F)\"] = test_df[\"Temperature(F)\"].fillna(round(test_df[\"Temperature(F)\"].mean(), ndigits=1))"
   ]
  },
  {
   "cell_type": "code",
   "execution_count": 80,
   "metadata": {},
   "outputs": [
    {
     "name": "stdout",
     "output_type": "stream",
     "text": [
      "0\n",
      "0\n",
      "0\n"
     ]
    }
   ],
   "source": [
    "# sanity check\n",
    "print(train_df['Temperature(F)'].isna().sum())\n",
    "print(val_df['Temperature(F)'].isna().sum())\n",
    "print(test_df['Temperature(F)'].isna().sum())"
   ]
  },
  {
   "cell_type": "markdown",
   "metadata": {},
   "source": [
    "### -- Wind_Chill(F)"
   ]
  },
  {
   "cell_type": "code",
   "execution_count": 81,
   "metadata": {},
   "outputs": [
    {
     "data": {
      "text/plain": [
       "0         81.0\n",
       "1         37.1\n",
       "2         44.0\n",
       "3         56.0\n",
       "4         41.0\n",
       "          ... \n",
       "454814    71.0\n",
       "454815     NaN\n",
       "454816     NaN\n",
       "454817     NaN\n",
       "454818     NaN\n",
       "Name: Wind_Chill(F), Length: 454819, dtype: float64"
      ]
     },
     "execution_count": 81,
     "metadata": {},
     "output_type": "execute_result"
    }
   ],
   "source": [
    "train_df['Wind_Chill(F)']"
   ]
  },
  {
   "cell_type": "code",
   "execution_count": 82,
   "metadata": {},
   "outputs": [
    {
     "name": "stdout",
     "output_type": "stream",
     "text": [
      "134958\n",
      "45147\n",
      "44908\n"
     ]
    }
   ],
   "source": [
    "print(train_df['Wind_Chill(F)'].isna().sum())\n",
    "print(val_df['Wind_Chill(F)'].isna().sum())\n",
    "print(test_df['Wind_Chill(F)'].isna().sum())"
   ]
  },
  {
   "cell_type": "code",
   "execution_count": 83,
   "metadata": {},
   "outputs": [
    {
     "name": "stdout",
     "output_type": "stream",
     "text": [
      "29.672902847066634\n",
      "29.779164413017956\n",
      "29.62132355366177\n"
     ]
    }
   ],
   "source": [
    "print(train_df['Wind_Chill(F)'].isna().sum() / train_df.shape[0] * 100)\n",
    "print(val_df['Wind_Chill(F)'].isna().sum() / val_df.shape[0] * 100)\n",
    "print(test_df['Wind_Chill(F)'].isna().sum() / test_df.shape[0] * 100)"
   ]
  },
  {
   "cell_type": "code",
   "execution_count": 84,
   "metadata": {},
   "outputs": [
    {
     "data": {
      "text/plain": [
       "<AxesSubplot:>"
      ]
     },
     "execution_count": 84,
     "metadata": {},
     "output_type": "execute_result"
    },
    {
     "data": {
      "image/png": "[encoded data removed]",
      "text/plain": [
       "<Figure size 432x288 with 1 Axes>"
      ]
     },
     "metadata": {
      "needs_background": "light"
     },
     "output_type": "display_data"
    }
   ],
   "source": [
    "# check the distribution\n",
    "train_df[\"Wind_Chill(F)\"].hist()"
   ]
  },
  {
   "cell_type": "markdown",
   "metadata": {},
   "source": [
    "* Around 30% of nulls for all datasets, which is very large\n",
    "* I'm thinking just impute the nulls with the average as well, and we'll see later if dropping them improves the model instead"
   ]
  },
  {
   "cell_type": "code",
   "execution_count": 85,
   "metadata": {},
   "outputs": [],
   "source": [
    "train_df[\"Wind_Chill(F)\"] = train_df[\"Wind_Chill(F)\"].fillna(round(train_df[\"Wind_Chill(F)\"].mean(), ndigits=1))\n",
    "val_df[\"Wind_Chill(F)\"] = val_df[\"Wind_Chill(F)\"].fillna(round(val_df[\"Wind_Chill(F)\"].mean(), ndigits=1))\n",
    "test_df[\"Wind_Chill(F)\"] = test_df[\"Wind_Chill(F)\"].fillna(round(test_df[\"Wind_Chill(F)\"].mean(), ndigits=1))"
   ]
  },
  {
   "cell_type": "code",
   "execution_count": 86,
   "metadata": {},
   "outputs": [
    {
     "name": "stdout",
     "output_type": "stream",
     "text": [
      "0\n",
      "0\n",
      "0\n"
     ]
    }
   ],
   "source": [
    "# sanity check\n",
    "print(train_df['Wind_Chill(F)'].isna().sum())\n",
    "print(val_df['Wind_Chill(F)'].isna().sum())\n",
    "print(test_df['Wind_Chill(F)'].isna().sum())"
   ]
  },
  {
   "cell_type": "markdown",
   "metadata": {},
   "source": [
    "### -- Humidity(%)"
   ]
  },
  {
   "cell_type": "code",
   "execution_count": 87,
   "metadata": {},
   "outputs": [
    {
     "data": {
      "text/plain": [
       "0         74.0\n",
       "1         76.0\n",
       "2         74.0\n",
       "3         29.0\n",
       "4         83.0\n",
       "          ... \n",
       "454814    41.0\n",
       "454815     NaN\n",
       "454816    87.0\n",
       "454817    77.0\n",
       "454818    94.0\n",
       "Name: Humidity(%), Length: 454819, dtype: float64"
      ]
     },
     "execution_count": 87,
     "metadata": {},
     "output_type": "execute_result"
    }
   ],
   "source": [
    "train_df['Humidity(%)']"
   ]
  },
  {
   "cell_type": "code",
   "execution_count": 88,
   "metadata": {},
   "outputs": [
    {
     "name": "stdout",
     "output_type": "stream",
     "text": [
      "13670\n",
      "4545\n",
      "4584\n"
     ]
    }
   ],
   "source": [
    "print(train_df['Humidity(%)'].isna().sum())\n",
    "print(val_df['Humidity(%)'].isna().sum())\n",
    "print(test_df['Humidity(%)'].isna().sum())"
   ]
  },
  {
   "cell_type": "code",
   "execution_count": 89,
   "metadata": {},
   "outputs": [
    {
     "data": {
      "text/plain": [
       "<AxesSubplot:>"
      ]
     },
     "execution_count": 89,
     "metadata": {},
     "output_type": "execute_result"
    },
    {
     "data": {
      "image/png": "[encoded data removed]",
      "text/plain": [
       "<Figure size 432x288 with 1 Axes>"
      ]
     },
     "metadata": {
      "needs_background": "light"
     },
     "output_type": "display_data"
    }
   ],
   "source": [
    "# check the distribution\n",
    "train_df[\"Humidity(%)\"].hist()"
   ]
  },
  {
   "cell_type": "code",
   "execution_count": 90,
   "metadata": {},
   "outputs": [
    {
     "name": "stdout",
     "output_type": "stream",
     "text": [
      "64.65139442682631\n",
      "93.0\n"
     ]
    }
   ],
   "source": [
    "print(train_df[\"Humidity(%)\"].mean())\n",
    "print(train_df[\"Humidity(%)\"].mode()[0])"
   ]
  },
  {
   "cell_type": "markdown",
   "metadata": {},
   "source": [
    "* For this one, I think imputing with the mode makes more sense than the average because it is more common for humidity to be around 90-100%\n",
    "* Again, for these imputations, we can try to see if dropping them later helps with the model"
   ]
  },
  {
   "cell_type": "code",
   "execution_count": 91,
   "metadata": {},
   "outputs": [],
   "source": [
    "train_df[\"Humidity(%)\"] = train_df[\"Humidity(%)\"].fillna(train_df[\"Humidity(%)\"].mode()[0])\n",
    "val_df[\"Humidity(%)\"] = val_df[\"Humidity(%)\"].fillna(val_df[\"Humidity(%)\"].mode()[0])\n",
    "test_df[\"Humidity(%)\"] = test_df[\"Humidity(%)\"].fillna(test_df[\"Humidity(%)\"].mode()[0])"
   ]
  },
  {
   "cell_type": "code",
   "execution_count": 92,
   "metadata": {},
   "outputs": [
    {
     "name": "stdout",
     "output_type": "stream",
     "text": [
      "0\n",
      "0\n",
      "0\n"
     ]
    }
   ],
   "source": [
    "# sanity check\n",
    "print(train_df['Humidity(%)'].isna().sum())\n",
    "print(val_df['Humidity(%)'].isna().sum())\n",
    "print(test_df['Humidity(%)'].isna().sum())"
   ]
  },
  {
   "cell_type": "markdown",
   "metadata": {},
   "source": [
    "### -- Pressure(in)"
   ]
  },
  {
   "cell_type": "code",
   "execution_count": 93,
   "metadata": {},
   "outputs": [
    {
     "data": {
      "text/plain": [
       "0         30.01\n",
       "1         29.57\n",
       "2         29.86\n",
       "3         25.83\n",
       "4         29.52\n",
       "          ...  \n",
       "454814    29.18\n",
       "454815      NaN\n",
       "454816    29.81\n",
       "454817    29.90\n",
       "454818    30.18\n",
       "Name: Pressure(in), Length: 454819, dtype: float64"
      ]
     },
     "execution_count": 93,
     "metadata": {},
     "output_type": "execute_result"
    }
   ],
   "source": [
    "train_df['Pressure(in)']"
   ]
  },
  {
   "cell_type": "code",
   "execution_count": 94,
   "metadata": {},
   "outputs": [
    {
     "name": "stdout",
     "output_type": "stream",
     "text": [
      "10865\n",
      "3641\n",
      "3638\n"
     ]
    }
   ],
   "source": [
    "print(train_df['Pressure(in)'].isna().sum())\n",
    "print(val_df['Pressure(in)'].isna().sum())\n",
    "print(test_df['Pressure(in)'].isna().sum())"
   ]
  },
  {
   "cell_type": "code",
   "execution_count": 95,
   "metadata": {},
   "outputs": [
    {
     "data": {
      "text/plain": [
       "<AxesSubplot:>"
      ]
     },
     "execution_count": 95,
     "metadata": {},
     "output_type": "execute_result"
    },
    {
     "data": {
      "image/png": "[encoded data removed]",
      "text/plain": [
       "<Figure size 432x288 with 1 Axes>"
      ]
     },
     "metadata": {
      "needs_background": "light"
     },
     "output_type": "display_data"
    }
   ],
   "source": [
    "# check the distribution\n",
    "train_df[\"Pressure(in)\"].hist()"
   ]
  },
  {
   "cell_type": "markdown",
   "metadata": {},
   "source": [
    "* For this one, it doesn't matter if we'll impute with mode or mean because they're pretty much the same"
   ]
  },
  {
   "cell_type": "code",
   "execution_count": 96,
   "metadata": {},
   "outputs": [],
   "source": [
    "train_df[\"Pressure(in)\"] = train_df[\"Pressure(in)\"].fillna(train_df[\"Pressure(in)\"].mean())\n",
    "val_df[\"Pressure(in)\"] = val_df[\"Pressure(in)\"].fillna(val_df[\"Pressure(in)\"].mean())\n",
    "test_df[\"Pressure(in)\"] = test_df[\"Pressure(in)\"].fillna(test_df[\"Pressure(in)\"].mean())"
   ]
  },
  {
   "cell_type": "code",
   "execution_count": 97,
   "metadata": {},
   "outputs": [
    {
     "name": "stdout",
     "output_type": "stream",
     "text": [
      "0\n",
      "0\n",
      "0\n"
     ]
    }
   ],
   "source": [
    "# sanity check\n",
    "print(train_df['Pressure(in)'].isna().sum())\n",
    "print(val_df['Pressure(in)'].isna().sum())\n",
    "print(test_df['Pressure(in)'].isna().sum())"
   ]
  },
  {
   "cell_type": "markdown",
   "metadata": {},
   "source": [
    "### -- Visibility(mi)"
   ]
  },
  {
   "cell_type": "code",
   "execution_count": 98,
   "metadata": {},
   "outputs": [
    {
     "data": {
      "text/plain": [
       "0         10.0\n",
       "1         10.0\n",
       "2         10.0\n",
       "3         10.0\n",
       "4          6.0\n",
       "          ... \n",
       "454814    10.0\n",
       "454815     NaN\n",
       "454816    10.0\n",
       "454817    10.0\n",
       "454818     7.0\n",
       "Name: Visibility(mi), Length: 454819, dtype: float64"
      ]
     },
     "execution_count": 98,
     "metadata": {},
     "output_type": "execute_result"
    }
   ],
   "source": [
    "train_df['Visibility(mi)']"
   ]
  },
  {
   "cell_type": "code",
   "execution_count": 99,
   "metadata": {},
   "outputs": [
    {
     "name": "stdout",
     "output_type": "stream",
     "text": [
      "13276\n",
      "4467\n",
      "4456\n"
     ]
    }
   ],
   "source": [
    "print(train_df['Visibility(mi)'].isna().sum())\n",
    "print(val_df['Visibility(mi)'].isna().sum())\n",
    "print(test_df['Visibility(mi)'].isna().sum())"
   ]
  },
  {
   "cell_type": "code",
   "execution_count": 100,
   "metadata": {},
   "outputs": [
    {
     "data": {
      "text/plain": [
       "<AxesSubplot:>"
      ]
     },
     "execution_count": 100,
     "metadata": {},
     "output_type": "execute_result"
    },
    {
     "data": {
      "image/png": "[encoded data removed]",
      "text/plain": [
       "<Figure size 432x288 with 1 Axes>"
      ]
     },
     "metadata": {
      "needs_background": "light"
     },
     "output_type": "display_data"
    }
   ],
   "source": [
    "# check the distribution\n",
    "train_df[\"Visibility(mi)\"].hist()"
   ]
  },
  {
   "cell_type": "code",
   "execution_count": 101,
   "metadata": {},
   "outputs": [],
   "source": [
    "# impute with mode for this one\n",
    "train_df[\"Visibility(mi)\"] = train_df[\"Visibility(mi)\"].fillna(train_df[\"Visibility(mi)\"].mode()[0])\n",
    "val_df[\"Visibility(mi)\"] = val_df[\"Visibility(mi)\"].fillna(val_df[\"Visibility(mi)\"].mode()[0])\n",
    "test_df[\"Visibility(mi)\"] = test_df[\"Visibility(mi)\"].fillna(test_df[\"Visibility(mi)\"].mode()[0])"
   ]
  },
  {
   "cell_type": "code",
   "execution_count": 102,
   "metadata": {},
   "outputs": [
    {
     "name": "stdout",
     "output_type": "stream",
     "text": [
      "0\n",
      "0\n",
      "0\n"
     ]
    }
   ],
   "source": [
    "# sanity check\n",
    "print(train_df['Visibility(mi)'].isna().sum())\n",
    "print(val_df['Visibility(mi)'].isna().sum())\n",
    "print(test_df['Visibility(mi)'].isna().sum())"
   ]
  },
  {
   "cell_type": "markdown",
   "metadata": {},
   "source": [
    "### -- Wind_Direction"
   ]
  },
  {
   "cell_type": "code",
   "execution_count": 103,
   "metadata": {},
   "outputs": [
    {
     "data": {
      "text/plain": [
       "CALM        60709\n",
       "Calm        23803\n",
       "WNW         23373\n",
       "NW          22786\n",
       "W           21616\n",
       "SSW         20848\n",
       "WSW         20645\n",
       "NNW         20450\n",
       "S           20228\n",
       "SW          19645\n",
       "SSE         19477\n",
       "SE          16559\n",
       "N           16166\n",
       "E           15612\n",
       "ESE         15468\n",
       "ENE         15163\n",
       "NE          14612\n",
       "NNE         13982\n",
       "West        12182\n",
       "South       12109\n",
       "VAR         12069\n",
       "North       10634\n",
       "East         7214\n",
       "Variable     6899\n",
       "Name: Wind_Direction, dtype: int64"
      ]
     },
     "execution_count": 103,
     "metadata": {},
     "output_type": "execute_result"
    }
   ],
   "source": [
    "train_df['Wind_Direction'].value_counts()"
   ]
  },
  {
   "cell_type": "code",
   "execution_count": 104,
   "metadata": {},
   "outputs": [
    {
     "name": "stdout",
     "output_type": "stream",
     "text": [
      "12570\n",
      "4203\n",
      "4195\n"
     ]
    }
   ],
   "source": [
    "print(train_df['Wind_Direction'].isna().sum())\n",
    "print(val_df['Wind_Direction'].isna().sum())\n",
    "print(test_df['Wind_Direction'].isna().sum())"
   ]
  },
  {
   "cell_type": "code",
   "execution_count": 105,
   "metadata": {},
   "outputs": [],
   "source": [
    "# impute with \"calm\" as it is the mode\n",
    "train_df[\"Wind_Direction\"] = train_df[\"Wind_Direction\"].fillna(\"calm\")\n",
    "val_df[\"Wind_Direction\"] = val_df[\"Wind_Direction\"].fillna(\"calm\")\n",
    "test_df[\"Wind_Direction\"] = test_df[\"Wind_Direction\"].fillna(\"calm\")"
   ]
  },
  {
   "cell_type": "code",
   "execution_count": 106,
   "metadata": {},
   "outputs": [],
   "source": [
    "wind_dir = {\n",
    "    'west': 'w',\n",
    "    'south': 's',\n",
    "    'north': 'n',\n",
    "    'east': 'e',\n",
    "    'variable': 'var'\n",
    "}\n",
    "\n",
    "# lower the strings\n",
    "train_df['Wind_Direction'] = train_df['Wind_Direction'].apply(lambda x : x.lower())\n",
    "val_df['Wind_Direction'] = val_df['Wind_Direction'].apply(lambda x : x.lower())\n",
    "test_df['Wind_Direction'] = test_df['Wind_Direction'].apply(lambda x : x.lower())\n",
    "\n",
    "# normalize the categories\n",
    "train_df['Wind_Direction'] = train_df['Wind_Direction'].replace(wind_dir)\n",
    "val_df['Wind_Direction'] = val_df['Wind_Direction'].replace(wind_dir)\n",
    "test_df['Wind_Direction'] = test_df['Wind_Direction'].replace(wind_dir)"
   ]
  },
  {
   "cell_type": "code",
   "execution_count": 107,
   "metadata": {},
   "outputs": [
    {
     "data": {
      "text/plain": [
       "calm    97082\n",
       "w       33798\n",
       "s       32337\n",
       "n       26800\n",
       "wnw     23373\n",
       "e       22826\n",
       "nw      22786\n",
       "ssw     20848\n",
       "wsw     20645\n",
       "nnw     20450\n",
       "sw      19645\n",
       "sse     19477\n",
       "var     18968\n",
       "se      16559\n",
       "ese     15468\n",
       "ene     15163\n",
       "ne      14612\n",
       "nne     13982\n",
       "Name: Wind_Direction, dtype: int64"
      ]
     },
     "execution_count": 107,
     "metadata": {},
     "output_type": "execute_result"
    }
   ],
   "source": [
    "train_df['Wind_Direction'].value_counts()"
   ]
  },
  {
   "cell_type": "code",
   "execution_count": 108,
   "metadata": {},
   "outputs": [
    {
     "name": "stdout",
     "output_type": "stream",
     "text": [
      "0\n",
      "0\n",
      "0\n"
     ]
    }
   ],
   "source": [
    "# sanity check\n",
    "print(train_df['Wind_Direction'].isna().sum())\n",
    "print(val_df['Wind_Direction'].isna().sum())\n",
    "print(test_df['Wind_Direction'].isna().sum())"
   ]
  },
  {
   "cell_type": "code",
   "execution_count": 109,
   "metadata": {},
   "outputs": [],
   "source": [
    "# cast to string as it makes the most sense\n",
    "train_df[\"Wind_Direction\"] = train_df[\"Wind_Direction\"].astype(\"string\")\n",
    "val_df[\"Wind_Direction\"] = val_df[\"Wind_Direction\"].astype(\"string\")\n",
    "test_df[\"Wind_Direction\"] = test_df[\"Wind_Direction\"].astype(\"string\")"
   ]
  },
  {
   "cell_type": "markdown",
   "metadata": {},
   "source": [
    "### -- Wind_Speed(mph)"
   ]
  },
  {
   "cell_type": "code",
   "execution_count": 110,
   "metadata": {},
   "outputs": [
    {
     "data": {
      "text/plain": [
       "count    416103.000000\n",
       "mean          7.630367\n",
       "std           5.498013\n",
       "min           0.000000\n",
       "25%           4.600000\n",
       "50%           7.000000\n",
       "75%          10.400000\n",
       "max         518.000000\n",
       "Name: Wind_Speed(mph), dtype: float64"
      ]
     },
     "execution_count": 110,
     "metadata": {},
     "output_type": "execute_result"
    }
   ],
   "source": [
    "train_df['Wind_Speed(mph)'].describe()"
   ]
  },
  {
   "cell_type": "code",
   "execution_count": 111,
   "metadata": {},
   "outputs": [
    {
     "data": {
      "text/plain": [
       "241158    518.0\n",
       "114534    232.0\n",
       "143844    161.0\n",
       "147076    142.0\n",
       "77214     141.5\n",
       "          ...  \n",
       "454775      NaN\n",
       "454799      NaN\n",
       "454801      NaN\n",
       "454806      NaN\n",
       "454815      NaN\n",
       "Name: Wind_Speed(mph), Length: 454819, dtype: float64"
      ]
     },
     "execution_count": 111,
     "metadata": {},
     "output_type": "execute_result"
    }
   ],
   "source": [
    "# max in the 3 digits but mean is only 1 digit, let's check further\n",
    "train_df['Wind_Speed(mph)'].sort_values(ascending=False)"
   ]
  },
  {
   "cell_type": "code",
   "execution_count": 112,
   "metadata": {},
   "outputs": [
    {
     "data": {
      "text/plain": [
       "518.0        1\n",
       "232.0        1\n",
       "161.0        1\n",
       "142.0        1\n",
       "141.5        1\n",
       "         ...  \n",
       "2.3         82\n",
       "2.0         24\n",
       "1.2         40\n",
       "1.0         14\n",
       "0.0      60710\n",
       "Name: Wind_Speed(mph), Length: 95, dtype: int64"
      ]
     },
     "execution_count": 112,
     "metadata": {},
     "output_type": "execute_result"
    }
   ],
   "source": [
    "train_df['Wind_Speed(mph)'].value_counts().sort_index(ascending=False)"
   ]
  },
  {
   "cell_type": "code",
   "execution_count": 113,
   "metadata": {},
   "outputs": [
    {
     "data": {
      "text/plain": [
       "<AxesSubplot:>"
      ]
     },
     "execution_count": 113,
     "metadata": {},
     "output_type": "execute_result"
    },
    {
     "data": {
      "image/png": "[encoded data removed]",
      "text/plain": [
       "<Figure size 1440x720 with 1 Axes>"
      ]
     },
     "metadata": {
      "needs_background": "light"
     },
     "output_type": "display_data"
    }
   ],
   "source": [
    "# let's take a peek at the box plot for this\n",
    "train_df['Wind_Speed(mph)'].plot(kind='box', vert=False, figsize=(20,10))"
   ]
  },
  {
   "cell_type": "markdown",
   "metadata": {},
   "source": [
    "* According to [here](https://en.wikipedia.org/wiki/Wind_speed#Highest_speed), the highest wind speed ever recorded was 253mph, so the 518mph is an impossible value\n",
    "* The Wikipedia also stated the 2nd highest wind speed recorded was 231mph back in 1934, so the 232mph is also an impossible value\n",
    "* The 3rd highest value in our data is within the realm of possibility at 161pmh. So we will cap the outliers to that speed instead"
   ]
  },
  {
   "cell_type": "code",
   "execution_count": 114,
   "metadata": {},
   "outputs": [
    {
     "data": {
      "text/plain": [
       "241158    161.0\n",
       "143844    161.0\n",
       "114534    161.0\n",
       "147076    142.0\n",
       "77214     141.5\n",
       "          ...  \n",
       "454775      NaN\n",
       "454799      NaN\n",
       "454801      NaN\n",
       "454806      NaN\n",
       "454815      NaN\n",
       "Name: Wind_Speed(mph), Length: 454819, dtype: float64"
      ]
     },
     "execution_count": 114,
     "metadata": {},
     "output_type": "execute_result"
    }
   ],
   "source": [
    "train_df['Wind_Speed(mph)'] = train_df['Wind_Speed(mph)'].clip(0, 161)\n",
    "\n",
    "train_df['Wind_Speed(mph)'].sort_values(ascending=False)"
   ]
  },
  {
   "cell_type": "code",
   "execution_count": 115,
   "metadata": {},
   "outputs": [
    {
     "data": {
      "text/plain": [
       "<AxesSubplot:>"
      ]
     },
     "execution_count": 115,
     "metadata": {},
     "output_type": "execute_result"
    },
    {
     "data": {
      "image/png": "[encoded data removed]",
      "text/plain": [
       "<Figure size 1440x720 with 1 Axes>"
      ]
     },
     "metadata": {
      "needs_background": "light"
     },
     "output_type": "display_data"
    }
   ],
   "source": [
    "# much more reasonable box plot now\n",
    "train_df['Wind_Speed(mph)'].plot(kind='box', vert=False, figsize=(20,10))"
   ]
  },
  {
   "cell_type": "code",
   "execution_count": 116,
   "metadata": {},
   "outputs": [
    {
     "data": {
      "text/plain": [
       "<AxesSubplot:>"
      ]
     },
     "execution_count": 116,
     "metadata": {},
     "output_type": "execute_result"
    },
    {
     "data": {
      "image/png": "[encoded data removed]",
      "text/plain": [
       "<Figure size 432x288 with 1 Axes>"
      ]
     },
     "metadata": {
      "needs_background": "light"
     },
     "output_type": "display_data"
    }
   ],
   "source": [
    "train_df['Wind_Speed(mph)'].hist()"
   ]
  },
  {
   "cell_type": "code",
   "execution_count": 117,
   "metadata": {},
   "outputs": [
    {
     "name": "stdout",
     "output_type": "stream",
     "text": [
      "38716\n",
      "12977\n",
      "12895\n"
     ]
    }
   ],
   "source": [
    "print(train_df['Wind_Speed(mph)'].isna().sum())\n",
    "print(val_df['Wind_Speed(mph)'].isna().sum())\n",
    "print(test_df['Wind_Speed(mph)'].isna().sum())"
   ]
  },
  {
   "cell_type": "code",
   "execution_count": 118,
   "metadata": {},
   "outputs": [],
   "source": [
    "# impute with mean for this one\n",
    "train_df[\"Wind_Speed(mph)\"] = train_df[\"Wind_Speed(mph)\"].fillna(train_df[\"Wind_Speed(mph)\"].mean())\n",
    "val_df[\"Wind_Speed(mph)\"] = val_df[\"Wind_Speed(mph)\"].fillna(val_df[\"Wind_Speed(mph)\"].mean())\n",
    "test_df[\"Wind_Speed(mph)\"] = test_df[\"Wind_Speed(mph)\"].fillna(test_df[\"Wind_Speed(mph)\"].mean())"
   ]
  },
  {
   "cell_type": "code",
   "execution_count": 119,
   "metadata": {},
   "outputs": [
    {
     "name": "stdout",
     "output_type": "stream",
     "text": [
      "0\n",
      "0\n",
      "0\n"
     ]
    }
   ],
   "source": [
    "# sanity check\n",
    "print(train_df['Wind_Speed(mph)'].isna().sum())\n",
    "print(val_df['Wind_Speed(mph)'].isna().sum())\n",
    "print(test_df['Wind_Speed(mph)'].isna().sum())"
   ]
  },
  {
   "cell_type": "markdown",
   "metadata": {},
   "source": [
    "### -- Precipitation(in)"
   ]
  },
  {
   "cell_type": "code",
   "execution_count": 120,
   "metadata": {},
   "outputs": [
    {
     "data": {
      "text/plain": [
       "count    301402.000000\n",
       "mean          0.008520\n",
       "std           0.125945\n",
       "min           0.000000\n",
       "25%           0.000000\n",
       "50%           0.000000\n",
       "75%           0.000000\n",
       "max          24.000000\n",
       "Name: Precipitation(in), dtype: float64"
      ]
     },
     "execution_count": 120,
     "metadata": {},
     "output_type": "execute_result"
    }
   ],
   "source": [
    "train_df['Precipitation(in)'].describe()"
   ]
  },
  {
   "cell_type": "code",
   "execution_count": 121,
   "metadata": {},
   "outputs": [
    {
     "data": {
      "text/plain": [
       "24.00         1\n",
       "10.05         1\n",
       "10.00         5\n",
       "9.99         20\n",
       "9.98          3\n",
       "          ...  \n",
       "0.04       2271\n",
       "0.03       2914\n",
       "0.02       4314\n",
       "0.01       8647\n",
       "0.00     270748\n",
       "Name: Precipitation(in), Length: 136, dtype: int64"
      ]
     },
     "execution_count": 121,
     "metadata": {},
     "output_type": "execute_result"
    }
   ],
   "source": [
    "train_df['Precipitation(in)'].value_counts().sort_index(ascending=False)"
   ]
  },
  {
   "cell_type": "code",
   "execution_count": 122,
   "metadata": {},
   "outputs": [
    {
     "data": {
      "text/plain": [
       "<AxesSubplot:>"
      ]
     },
     "execution_count": 122,
     "metadata": {},
     "output_type": "execute_result"
    },
    {
     "data": {
      "image/png": "[encoded data removed]",
      "text/plain": [
       "<Figure size 1440x720 with 1 Axes>"
      ]
     },
     "metadata": {
      "needs_background": "light"
     },
     "output_type": "display_data"
    }
   ],
   "source": [
    "train_df['Precipitation(in)'].plot(kind='box', vert=False, figsize=(20,10))"
   ]
  },
  {
   "cell_type": "markdown",
   "metadata": {},
   "source": [
    "* For this one, I think it is reasonable to just clip the 24 inches outlier to 10.05 inches and still keep the 9-10 inches bunch"
   ]
  },
  {
   "cell_type": "code",
   "execution_count": 123,
   "metadata": {},
   "outputs": [
    {
     "data": {
      "text/plain": [
       "9750      10.05\n",
       "336713    10.05\n",
       "199861    10.00\n",
       "70396     10.00\n",
       "415234    10.00\n",
       "          ...  \n",
       "454809      NaN\n",
       "454815      NaN\n",
       "454816      NaN\n",
       "454817      NaN\n",
       "454818      NaN\n",
       "Name: Precipitation(in), Length: 454819, dtype: float64"
      ]
     },
     "execution_count": 123,
     "metadata": {},
     "output_type": "execute_result"
    }
   ],
   "source": [
    "# capping the 24inches outlier to 10.05inches\n",
    "train_df['Precipitation(in)'] = train_df['Precipitation(in)'].clip(0, 10.05)\n",
    "\n",
    "train_df['Precipitation(in)'].sort_values(ascending=False)"
   ]
  },
  {
   "cell_type": "code",
   "execution_count": 124,
   "metadata": {},
   "outputs": [
    {
     "name": "stdout",
     "output_type": "stream",
     "text": [
      "153417\n",
      "51332\n",
      "50853\n"
     ]
    }
   ],
   "source": [
    "print(train_df['Precipitation(in)'].isna().sum())\n",
    "print(val_df['Precipitation(in)'].isna().sum())\n",
    "print(test_df['Precipitation(in)'].isna().sum())"
   ]
  },
  {
   "cell_type": "code",
   "execution_count": 125,
   "metadata": {},
   "outputs": [
    {
     "name": "stdout",
     "output_type": "stream",
     "text": [
      "33.73144041915575\n",
      "33.85881825257576\n",
      "33.54264644772339\n"
     ]
    }
   ],
   "source": [
    "print(train_df['Precipitation(in)'].isna().sum() / train_df.shape[0] * 100)\n",
    "print(val_df['Precipitation(in)'].isna().sum() / val_df.shape[0] * 100)\n",
    "print(test_df['Precipitation(in)'].isna().sum() / test_df.shape[0] * 100)"
   ]
  },
  {
   "cell_type": "code",
   "execution_count": 126,
   "metadata": {},
   "outputs": [],
   "source": [
    "# very high percentage of nulls, but we can also drop them later if it doesn't work out\n",
    "# impute with mean for this one\n",
    "train_df[\"Precipitation(in)\"] = train_df[\"Precipitation(in)\"].fillna(train_df[\"Precipitation(in)\"].mean())\n",
    "val_df[\"Precipitation(in)\"] = val_df[\"Precipitation(in)\"].fillna(val_df[\"Precipitation(in)\"].mean())\n",
    "test_df[\"Precipitation(in)\"] = test_df[\"Precipitation(in)\"].fillna(test_df[\"Precipitation(in)\"].mean())"
   ]
  },
  {
   "cell_type": "code",
   "execution_count": 127,
   "metadata": {},
   "outputs": [
    {
     "name": "stdout",
     "output_type": "stream",
     "text": [
      "0\n",
      "0\n",
      "0\n"
     ]
    }
   ],
   "source": [
    "print(train_df['Precipitation(in)'].isna().sum())\n",
    "print(val_df['Precipitation(in)'].isna().sum())\n",
    "print(test_df['Precipitation(in)'].isna().sum())"
   ]
  },
  {
   "cell_type": "markdown",
   "metadata": {},
   "source": [
    "### -- Weather_Condition"
   ]
  },
  {
   "cell_type": "code",
   "execution_count": 128,
   "metadata": {},
   "outputs": [
    {
     "data": {
      "text/plain": [
       "Fair                            139626\n",
       "Mostly Cloudy                    57682\n",
       "Clear                            54290\n",
       "Cloudy                           48248\n",
       "Partly Cloudy                    40045\n",
       "                                 ...  \n",
       "Heavy Ice Pellets                    1\n",
       "Funnel Cloud                         1\n",
       "Thunder / Wintry Mix / Windy         1\n",
       "Tornado                              1\n",
       "Light Snow with Thunder              1\n",
       "Name: Weather_Condition, Length: 102, dtype: int64"
      ]
     },
     "execution_count": 128,
     "metadata": {},
     "output_type": "execute_result"
    }
   ],
   "source": [
    "train_df[\"Weather_Condition\"].value_counts()"
   ]
  },
  {
   "cell_type": "code",
   "execution_count": 129,
   "metadata": {},
   "outputs": [
    {
     "name": "stdout",
     "output_type": "stream",
     "text": [
      "13196\n",
      "4443\n",
      "4433\n"
     ]
    }
   ],
   "source": [
    "print(train_df['Weather_Condition'].isna().sum())\n",
    "print(val_df['Weather_Condition'].isna().sum())\n",
    "print(test_df['Weather_Condition'].isna().sum())"
   ]
  },
  {
   "cell_type": "code",
   "execution_count": 130,
   "metadata": {},
   "outputs": [],
   "source": [
    "# impute with \"fair\" as it is the mode\n",
    "train_df[\"Weather_Condition\"] = train_df[\"Weather_Condition\"].fillna(\"fair\")\n",
    "val_df[\"Weather_Condition\"] = val_df[\"Weather_Condition\"].fillna(\"fair\")\n",
    "test_df[\"Weather_Condition\"] = test_df[\"Weather_Condition\"].fillna(\"fair\")"
   ]
  },
  {
   "cell_type": "code",
   "execution_count": 131,
   "metadata": {},
   "outputs": [
    {
     "name": "stdout",
     "output_type": "stream",
     "text": [
      "0\n",
      "0\n",
      "0\n"
     ]
    }
   ],
   "source": [
    "# sanity check\n",
    "print(train_df['Weather_Condition'].isna().sum())\n",
    "print(val_df['Weather_Condition'].isna().sum())\n",
    "print(test_df['Weather_Condition'].isna().sum())"
   ]
  },
  {
   "cell_type": "code",
   "execution_count": 132,
   "metadata": {},
   "outputs": [
    {
     "data": {
      "text/plain": [
       "fair                            152822\n",
       "mostly cloudy                    57682\n",
       "clear                            54290\n",
       "cloudy                           48248\n",
       "partly cloudy                    40045\n",
       "                                 ...  \n",
       "heavy ice pellets                    1\n",
       "funnel cloud                         1\n",
       "thunder / wintry mix / windy         1\n",
       "tornado                              1\n",
       "light snow with thunder              1\n",
       "Name: Weather_Condition, Length: 102, dtype: int64"
      ]
     },
     "execution_count": 132,
     "metadata": {},
     "output_type": "execute_result"
    }
   ],
   "source": [
    "# lower the strings\n",
    "train_df['Weather_Condition'] = train_df['Weather_Condition'].apply(lambda x : x.lower())\n",
    "val_df['Weather_Condition'] = val_df['Weather_Condition'].apply(lambda x : x.lower())\n",
    "test_df['Weather_Condition'] = test_df['Weather_Condition'].apply(lambda x : x.lower())\n",
    "\n",
    "train_df[\"Weather_Condition\"].value_counts()"
   ]
  },
  {
   "cell_type": "code",
   "execution_count": 133,
   "metadata": {},
   "outputs": [],
   "source": [
    "# cast to string as it makes the most sense\n",
    "train_df[\"Weather_Condition\"] = train_df[\"Weather_Condition\"].astype(\"string\")\n",
    "val_df[\"Weather_Condition\"] = val_df[\"Weather_Condition\"].astype(\"string\")\n",
    "test_df[\"Weather_Condition\"] = test_df[\"Weather_Condition\"].astype(\"string\")"
   ]
  },
  {
   "cell_type": "markdown",
   "metadata": {},
   "source": [
    "### -- Amenity, Bump, Crossing, Give_Way, Junction, No_Exit, Railway, Roundabout, Station, Stop, Traffic_Calming, Traffic_Signal, Turning_Loop"
   ]
  },
  {
   "cell_type": "code",
   "execution_count": 134,
   "metadata": {},
   "outputs": [
    {
     "data": {
      "text/plain": [
       "Amenity            0\n",
       "Bump               0\n",
       "Crossing           0\n",
       "Give_Way           0\n",
       "Junction           0\n",
       "No_Exit            0\n",
       "Railway            0\n",
       "Roundabout         0\n",
       "Station            0\n",
       "Stop               0\n",
       "Traffic_Calming    0\n",
       "Traffic_Signal     0\n",
       "Turning_Loop       0\n",
       "dtype: int64"
      ]
     },
     "execution_count": 134,
     "metadata": {},
     "output_type": "execute_result"
    }
   ],
   "source": [
    "train_df[[\n",
    "    'Amenity',\n",
    "    'Bump',\n",
    "    'Crossing',\n",
    "    'Give_Way',\n",
    "    'Junction',\n",
    "    'No_Exit',\n",
    "    'Railway',\n",
    "    'Roundabout',\n",
    "    'Station',\n",
    "    'Stop',\n",
    "    'Traffic_Calming',\n",
    "    'Traffic_Signal',\n",
    "    'Turning_Loop'\n",
    "]].isna().sum()"
   ]
  },
  {
   "cell_type": "code",
   "execution_count": 135,
   "metadata": {},
   "outputs": [
    {
     "data": {
      "text/plain": [
       "Amenity            0\n",
       "Bump               0\n",
       "Crossing           0\n",
       "Give_Way           0\n",
       "Junction           0\n",
       "No_Exit            0\n",
       "Railway            0\n",
       "Roundabout         0\n",
       "Station            0\n",
       "Stop               0\n",
       "Traffic_Calming    0\n",
       "Traffic_Signal     0\n",
       "Turning_Loop       0\n",
       "dtype: int64"
      ]
     },
     "execution_count": 135,
     "metadata": {},
     "output_type": "execute_result"
    }
   ],
   "source": [
    "val_df[[\n",
    "    'Amenity',\n",
    "    'Bump',\n",
    "    'Crossing',\n",
    "    'Give_Way',\n",
    "    'Junction',\n",
    "    'No_Exit',\n",
    "    'Railway',\n",
    "    'Roundabout',\n",
    "    'Station',\n",
    "    'Stop',\n",
    "    'Traffic_Calming',\n",
    "    'Traffic_Signal',\n",
    "    'Turning_Loop'\n",
    "]].isna().sum()"
   ]
  },
  {
   "cell_type": "code",
   "execution_count": 136,
   "metadata": {},
   "outputs": [
    {
     "data": {
      "text/plain": [
       "Amenity            0\n",
       "Bump               0\n",
       "Crossing           0\n",
       "Give_Way           0\n",
       "Junction           0\n",
       "No_Exit            0\n",
       "Railway            0\n",
       "Roundabout         0\n",
       "Station            0\n",
       "Stop               0\n",
       "Traffic_Calming    0\n",
       "Traffic_Signal     0\n",
       "Turning_Loop       0\n",
       "dtype: int64"
      ]
     },
     "execution_count": 136,
     "metadata": {},
     "output_type": "execute_result"
    }
   ],
   "source": [
    "test_df[[\n",
    "    'Amenity',\n",
    "    'Bump',\n",
    "    'Crossing',\n",
    "    'Give_Way',\n",
    "    'Junction',\n",
    "    'No_Exit',\n",
    "    'Railway',\n",
    "    'Roundabout',\n",
    "    'Station',\n",
    "    'Stop',\n",
    "    'Traffic_Calming',\n",
    "    'Traffic_Signal',\n",
    "    'Turning_Loop'\n",
    "]].isna().sum()"
   ]
  },
  {
   "cell_type": "markdown",
   "metadata": {},
   "source": [
    "* These 13 columns are in perfect condition with no nulls and correct data type\n",
    "* No further actions required for this bunch"
   ]
  },
  {
   "cell_type": "markdown",
   "metadata": {},
   "source": [
    "### -- Sunrise_Sunset, Civil_Twilight, Nautical_Twilight, Astronomical_Twilight"
   ]
  },
  {
   "cell_type": "code",
   "execution_count": 137,
   "metadata": {},
   "outputs": [
    {
     "name": "stdout",
     "output_type": "stream",
     "text": [
      "Day      272967\n",
      "Night    181829\n",
      "Name: Sunrise_Sunset, dtype: int64\n",
      "Day      290813\n",
      "Night    163983\n",
      "Name: Civil_Twilight, dtype: int64\n",
      "Day      310554\n",
      "Night    144242\n",
      "Name: Nautical_Twilight, dtype: int64\n",
      "Day      327141\n",
      "Night    127655\n",
      "Name: Astronomical_Twilight, dtype: int64\n"
     ]
    }
   ],
   "source": [
    "print(train_df[\"Sunrise_Sunset\"].value_counts())\n",
    "print(train_df[\"Civil_Twilight\"].value_counts())\n",
    "print(train_df[\"Nautical_Twilight\"].value_counts())\n",
    "print(train_df[\"Astronomical_Twilight\"].value_counts())"
   ]
  },
  {
   "cell_type": "code",
   "execution_count": 138,
   "metadata": {},
   "outputs": [
    {
     "name": "stdout",
     "output_type": "stream",
     "text": [
      "23\n",
      "23\n",
      "23\n",
      "23\n"
     ]
    }
   ],
   "source": [
    "print(train_df[\"Sunrise_Sunset\"].isna().sum())\n",
    "print(train_df[\"Civil_Twilight\"].isna().sum())\n",
    "print(train_df[\"Nautical_Twilight\"].isna().sum())\n",
    "print(train_df[\"Astronomical_Twilight\"].isna().sum())"
   ]
  },
  {
   "cell_type": "markdown",
   "metadata": {},
   "source": [
    "* All of these nulls correlate with the nulls in the `City` column\n",
    "* So, doing the same thing as the `City` column, we will fill the nulls out with an empty string"
   ]
  },
  {
   "cell_type": "code",
   "execution_count": 139,
   "metadata": {},
   "outputs": [],
   "source": [
    "train_df[\"Sunrise_Sunset\"] = train_df[\"Sunrise_Sunset\"].fillna(\"\")\n",
    "val_df[\"Sunrise_Sunset\"] = val_df[\"Sunrise_Sunset\"].fillna(\"\")\n",
    "test_df[\"Sunrise_Sunset\"] = test_df[\"Sunrise_Sunset\"].fillna(\"\")\n",
    "\n",
    "train_df[\"Civil_Twilight\"] = train_df[\"Civil_Twilight\"].fillna(\"\")\n",
    "val_df[\"Civil_Twilight\"] = val_df[\"Civil_Twilight\"].fillna(\"\")\n",
    "test_df[\"Civil_Twilight\"] = test_df[\"Civil_Twilight\"].fillna(\"\")\n",
    "\n",
    "train_df[\"Nautical_Twilight\"] = train_df[\"Nautical_Twilight\"].fillna(\"\")\n",
    "val_df[\"Nautical_Twilight\"] = val_df[\"Nautical_Twilight\"].fillna(\"\")\n",
    "test_df[\"Nautical_Twilight\"] = test_df[\"Nautical_Twilight\"].fillna(\"\")\n",
    "\n",
    "train_df[\"Astronomical_Twilight\"] = train_df[\"Astronomical_Twilight\"].fillna(\"\")\n",
    "val_df[\"Astronomical_Twilight\"] = val_df[\"Astronomical_Twilight\"].fillna(\"\")\n",
    "test_df[\"Astronomical_Twilight\"] = test_df[\"Astronomical_Twilight\"].fillna(\"\")"
   ]
  },
  {
   "cell_type": "code",
   "execution_count": 140,
   "metadata": {},
   "outputs": [],
   "source": [
    "# cast to string as it makes the most sense\n",
    "\n",
    "train_df[\"Sunrise_Sunset\"] = train_df[\"Sunrise_Sunset\"].astype(\"string\")\n",
    "val_df[\"Sunrise_Sunset\"] = val_df[\"Sunrise_Sunset\"].astype(\"string\")\n",
    "test_df[\"Sunrise_Sunset\"] = test_df[\"Sunrise_Sunset\"].astype(\"string\")\n",
    "\n",
    "train_df[\"Civil_Twilight\"] = train_df[\"Civil_Twilight\"].astype(\"string\")\n",
    "val_df[\"Civil_Twilight\"] = val_df[\"Civil_Twilight\"].astype(\"string\")\n",
    "test_df[\"Civil_Twilight\"] = test_df[\"Civil_Twilight\"].astype(\"string\")\n",
    "\n",
    "train_df[\"Nautical_Twilight\"] = train_df[\"Nautical_Twilight\"].astype(\"string\")\n",
    "val_df[\"Nautical_Twilight\"] = val_df[\"Nautical_Twilight\"].astype(\"string\")\n",
    "test_df[\"Nautical_Twilight\"] = test_df[\"Nautical_Twilight\"].astype(\"string\")\n",
    "\n",
    "train_df[\"Astronomical_Twilight\"] = train_df[\"Astronomical_Twilight\"].astype(\"string\")\n",
    "val_df[\"Astronomical_Twilight\"] = val_df[\"Astronomical_Twilight\"].astype(\"string\")\n",
    "test_df[\"Astronomical_Twilight\"] = test_df[\"Astronomical_Twilight\"].astype(\"string\")"
   ]
  },
  {
   "cell_type": "code",
   "execution_count": 141,
   "metadata": {},
   "outputs": [
    {
     "name": "stdout",
     "output_type": "stream",
     "text": [
      "0\n",
      "0\n",
      "0\n"
     ]
    }
   ],
   "source": [
    "# sum of sums of nulls\n",
    "print(train_df.isna().sum().sum())\n",
    "print(val_df.isna().sum().sum())\n",
    "print(test_df.isna().sum().sum())"
   ]
  },
  {
   "cell_type": "markdown",
   "metadata": {},
   "source": [
    "# Task 1.2: Data Exploration"
   ]
  },
  {
   "cell_type": "markdown",
   "metadata": {},
   "source": [
    "### Graph 1: Distribution of accidents per hour per day in a week\n",
    "* Column used: `Start_Time`"
   ]
  },
  {
   "cell_type": "code",
   "execution_count": 204,
   "metadata": {},
   "outputs": [
    {
     "data": {
      "text/html": [
       "<div>\n",
       "<style scoped>\n",
       "    .dataframe tbody tr th:only-of-type {\n",
       "        vertical-align: middle;\n",
       "    }\n",
       "\n",
       "    .dataframe tbody tr th {\n",
       "        vertical-align: top;\n",
       "    }\n",
       "\n",
       "    .dataframe thead th {\n",
       "        text-align: right;\n",
       "    }\n",
       "</style>\n",
       "<table border=\"1\" class=\"dataframe\">\n",
       "  <thead>\n",
       "    <tr style=\"text-align: right;\">\n",
       "      <th></th>\n",
       "      <th>weekday</th>\n",
       "      <th>hour</th>\n",
       "      <th>count</th>\n",
       "    </tr>\n",
       "  </thead>\n",
       "  <tbody>\n",
       "    <tr>\n",
       "      <th>0</th>\n",
       "      <td>4</td>\n",
       "      <td>16</td>\n",
       "      <td>5981</td>\n",
       "    </tr>\n",
       "    <tr>\n",
       "      <th>1</th>\n",
       "      <td>3</td>\n",
       "      <td>17</td>\n",
       "      <td>5964</td>\n",
       "    </tr>\n",
       "    <tr>\n",
       "      <th>2</th>\n",
       "      <td>4</td>\n",
       "      <td>17</td>\n",
       "      <td>5895</td>\n",
       "    </tr>\n",
       "    <tr>\n",
       "      <th>3</th>\n",
       "      <td>2</td>\n",
       "      <td>17</td>\n",
       "      <td>5820</td>\n",
       "    </tr>\n",
       "    <tr>\n",
       "      <th>4</th>\n",
       "      <td>3</td>\n",
       "      <td>16</td>\n",
       "      <td>5760</td>\n",
       "    </tr>\n",
       "    <tr>\n",
       "      <th>...</th>\n",
       "      <td>...</td>\n",
       "      <td>...</td>\n",
       "      <td>...</td>\n",
       "    </tr>\n",
       "    <tr>\n",
       "      <th>163</th>\n",
       "      <td>4</td>\n",
       "      <td>4</td>\n",
       "      <td>1192</td>\n",
       "    </tr>\n",
       "    <tr>\n",
       "      <th>164</th>\n",
       "      <td>5</td>\n",
       "      <td>5</td>\n",
       "      <td>1177</td>\n",
       "    </tr>\n",
       "    <tr>\n",
       "      <th>165</th>\n",
       "      <td>1</td>\n",
       "      <td>4</td>\n",
       "      <td>1152</td>\n",
       "    </tr>\n",
       "    <tr>\n",
       "      <th>166</th>\n",
       "      <td>6</td>\n",
       "      <td>8</td>\n",
       "      <td>1139</td>\n",
       "    </tr>\n",
       "    <tr>\n",
       "      <th>167</th>\n",
       "      <td>6</td>\n",
       "      <td>9</td>\n",
       "      <td>1128</td>\n",
       "    </tr>\n",
       "  </tbody>\n",
       "</table>\n",
       "<p>168 rows × 3 columns</p>\n",
       "</div>"
      ],
      "text/plain": [
       "     weekday  hour  count\n",
       "0          4    16   5981\n",
       "1          3    17   5964\n",
       "2          4    17   5895\n",
       "3          2    17   5820\n",
       "4          3    16   5760\n",
       "..       ...   ...    ...\n",
       "163        4     4   1192\n",
       "164        5     5   1177\n",
       "165        1     4   1152\n",
       "166        6     8   1139\n",
       "167        6     9   1128\n",
       "\n",
       "[168 rows x 3 columns]"
      ]
     },
     "execution_count": 204,
     "metadata": {},
     "output_type": "execute_result"
    }
   ],
   "source": [
    "# convert the timestamp back to a datetime object\n",
    "graph1_df = train_df[\"Start_Time\"].apply(lambda x : dt.datetime.fromtimestamp(x)).to_frame('Start_Time')\n",
    "\n",
    "# get the weekday and hour from each timestamp\n",
    "graph1_df[\"weekday\"] = graph1_df[\"Start_Time\"].apply(lambda x : x.weekday())\n",
    "graph1_df[\"hour\"] = graph1_df[\"Start_Time\"].apply(lambda x : x.time().hour)\n",
    "graph1_df = graph1_df.drop(\"Start_Time\", axis=1)\n",
    "# get value counts\n",
    "graph1_df = graph1_df.value_counts().reset_index(name='count')\n",
    "\n",
    "graph1_df"
   ]
  },
  {
   "cell_type": "code",
   "execution_count": 213,
   "metadata": {},
   "outputs": [
    {
     "data": {
      "text/plain": [
       "<AxesSubplot:xlabel='Day of the week', ylabel='Hour of the day'>"
      ]
     },
     "execution_count": 213,
     "metadata": {},
     "output_type": "execute_result"
    },
    {
     "data": {
      "image/png": "[encoded data removed]",
      "text/plain": [
       "<Figure size 1800x720 with 2 Axes>"
      ]
     },
     "metadata": {
      "needs_background": "light"
     },
     "output_type": "display_data"
    }
   ],
   "source": [
    "# green to yellow to red colormap, fits best for this data\n",
    "new_cm = cm.get_cmap('RdYlGn').reversed()\n",
    "ax = graph1_df.plot.scatter(\n",
    "        x='weekday',\n",
    "        y='hour',\n",
    "        c='count',\n",
    "        s=420,\n",
    "        colormap=new_cm,\n",
    "        figsize=(25,10),\n",
    "        sharex=False,\n",
    "        fontsize=15,\n",
    "        marker='s'\n",
    "    )\n",
    "ax.invert_yaxis()   \n",
    "ax.set_xlabel('Day of the week', fontsize=15, labelpad=15)\n",
    "ax.set_ylabel('Hour of the day', fontsize=15, labelpad=15)\n",
    "ax.set_xticks(range(7))\n",
    "ax.set_xticklabels([\"Monday\", \"Tuesday\", \"Wednesday\", \"Thursday\", \"Friday\", \"Saturday\", \"Sunday\"])\n",
    "ax.set_yticks(range(24))\n",
    "ax.set_yticklabels([f\"{i:02}:00\" for i in range(24)])\n",
    "ax"
   ]
  },
  {
   "cell_type": "markdown",
   "metadata": {},
   "source": [
    "* This graph is made by extracting the weekday and the hour from the timestamps in the `Start_Time` column. And then we can get the value counts for each combination of hour and weekday. From there, we can plot the values over a scatter plot, and see what is the distribution of the accidents per hour per day in a week.\n",
    "* From this graph, we can see that accidents happen mostly around the afternoon hours of a workweek. And the lowest rates are around the weekends and 3-4 AM for the workweek. This looks to be very realistic as the rush hours are usually when people leave their house to go to work (7-9AM timeframe) and when people come home from work (3-5PM). And with the large amount of vehicles on the road and people wanting to go to work or home quickly, accidents are definitely more likely to happen. Although, I am surprised by the extremely low rate during the weekends, when people are most likely to go out and have fun, so I'm guessing people don't leave their house that much for the weekends in the US."
   ]
  },
  {
   "cell_type": "markdown",
   "metadata": {},
   "source": [
    "### Graph 2: Distribution of length of accidents\n",
    "* Column used: `Start_Time`, `End_Time`"
   ]
  },
  {
   "cell_type": "code",
   "execution_count": 217,
   "metadata": {},
   "outputs": [
    {
     "name": "stderr",
     "output_type": "stream",
     "text": [
      "C:\\Users\\hntuy\\AppData\\Local\\Temp/ipykernel_4088/2072417311.py:3: SettingWithCopyWarning: \n",
      "A value is trying to be set on a copy of a slice from a DataFrame.\n",
      "Try using .loc[row_indexer,col_indexer] = value instead\n",
      "\n",
      "See the caveats in the documentation: https://pandas.pydata.org/pandas-docs/stable/user_guide/indexing.html#returning-a-view-versus-a-copy\n",
      "  graph2_df[\"length\"] = graph2_df.apply(lambda x : dt.datetime.fromtimestamp(x[\"End_Time\"]) - dt.datetime.fromtimestamp(x[\"Start_Time\"]), axis=1)\n"
     ]
    },
    {
     "data": {
      "text/html": [
       "<div>\n",
       "<style scoped>\n",
       "    .dataframe tbody tr th:only-of-type {\n",
       "        vertical-align: middle;\n",
       "    }\n",
       "\n",
       "    .dataframe tbody tr th {\n",
       "        vertical-align: top;\n",
       "    }\n",
       "\n",
       "    .dataframe thead th {\n",
       "        text-align: right;\n",
       "    }\n",
       "</style>\n",
       "<table border=\"1\" class=\"dataframe\">\n",
       "  <thead>\n",
       "    <tr style=\"text-align: right;\">\n",
       "      <th></th>\n",
       "      <th>Start_Time</th>\n",
       "      <th>End_Time</th>\n",
       "      <th>length</th>\n",
       "    </tr>\n",
       "  </thead>\n",
       "  <tbody>\n",
       "    <tr>\n",
       "      <th>0</th>\n",
       "      <td>1.608188e+09</td>\n",
       "      <td>1.608226e+09</td>\n",
       "      <td>0 days 10:24:46</td>\n",
       "    </tr>\n",
       "    <tr>\n",
       "      <th>1</th>\n",
       "      <td>1.493278e+09</td>\n",
       "      <td>1.493300e+09</td>\n",
       "      <td>0 days 06:00:00</td>\n",
       "    </tr>\n",
       "    <tr>\n",
       "      <th>2</th>\n",
       "      <td>1.609176e+09</td>\n",
       "      <td>1.609182e+09</td>\n",
       "      <td>0 days 01:38:37</td>\n",
       "    </tr>\n",
       "    <tr>\n",
       "      <th>3</th>\n",
       "      <td>1.573548e+09</td>\n",
       "      <td>1.573555e+09</td>\n",
       "      <td>0 days 01:48:58</td>\n",
       "    </tr>\n",
       "    <tr>\n",
       "      <th>4</th>\n",
       "      <td>1.578659e+09</td>\n",
       "      <td>1.578673e+09</td>\n",
       "      <td>0 days 04:00:00</td>\n",
       "    </tr>\n",
       "    <tr>\n",
       "      <th>...</th>\n",
       "      <td>...</td>\n",
       "      <td>...</td>\n",
       "      <td>...</td>\n",
       "    </tr>\n",
       "    <tr>\n",
       "      <th>454814</th>\n",
       "      <td>1.589968e+09</td>\n",
       "      <td>1.589970e+09</td>\n",
       "      <td>0 days 00:30:00</td>\n",
       "    </tr>\n",
       "    <tr>\n",
       "      <th>454815</th>\n",
       "      <td>1.604693e+09</td>\n",
       "      <td>1.604713e+09</td>\n",
       "      <td>0 days 05:38:20</td>\n",
       "    </tr>\n",
       "    <tr>\n",
       "      <th>454816</th>\n",
       "      <td>1.495666e+09</td>\n",
       "      <td>1.495688e+09</td>\n",
       "      <td>0 days 06:00:00</td>\n",
       "    </tr>\n",
       "    <tr>\n",
       "      <th>454817</th>\n",
       "      <td>1.484823e+09</td>\n",
       "      <td>1.484844e+09</td>\n",
       "      <td>0 days 06:00:00</td>\n",
       "    </tr>\n",
       "    <tr>\n",
       "      <th>454818</th>\n",
       "      <td>1.507193e+09</td>\n",
       "      <td>1.507214e+09</td>\n",
       "      <td>0 days 06:00:00</td>\n",
       "    </tr>\n",
       "  </tbody>\n",
       "</table>\n",
       "<p>454819 rows × 3 columns</p>\n",
       "</div>"
      ],
      "text/plain": [
       "          Start_Time      End_Time          length\n",
       "0       1.608188e+09  1.608226e+09 0 days 10:24:46\n",
       "1       1.493278e+09  1.493300e+09 0 days 06:00:00\n",
       "2       1.609176e+09  1.609182e+09 0 days 01:38:37\n",
       "3       1.573548e+09  1.573555e+09 0 days 01:48:58\n",
       "4       1.578659e+09  1.578673e+09 0 days 04:00:00\n",
       "...              ...           ...             ...\n",
       "454814  1.589968e+09  1.589970e+09 0 days 00:30:00\n",
       "454815  1.604693e+09  1.604713e+09 0 days 05:38:20\n",
       "454816  1.495666e+09  1.495688e+09 0 days 06:00:00\n",
       "454817  1.484823e+09  1.484844e+09 0 days 06:00:00\n",
       "454818  1.507193e+09  1.507214e+09 0 days 06:00:00\n",
       "\n",
       "[454819 rows x 3 columns]"
      ]
     },
     "execution_count": 217,
     "metadata": {},
     "output_type": "execute_result"
    }
   ],
   "source": [
    "# convert the timestamp back to a datetime object\n",
    "graph2_df = train_df[[\"Start_Time\", \"End_Time\"]]\n",
    "graph2_df[\"length\"] = graph2_df.apply(lambda x : dt.datetime.fromtimestamp(x[\"End_Time\"]) - dt.datetime.fromtimestamp(x[\"Start_Time\"]), axis=1)\n",
    "\n",
    "# get the weekday and hour from each timestamp\n",
    "# graph1_df[\"weekday\"] = graph1_df[\"Start_Time\"].apply(lambda x : x.weekday())\n",
    "# graph1_df[\"hour\"] = graph1_df[\"Start_Time\"].apply(lambda x : x.time().hour)\n",
    "# graph1_df = graph1_df.drop(\"Start_Time\", axis=1)\n",
    "# get value counts\n",
    "# graph1_df = graph1_df.value_counts().reset_index(name='count')\n",
    "\n",
    "graph2_df"
   ]
  },
  {
   "cell_type": "code",
   "execution_count": 224,
   "metadata": {},
   "outputs": [],
   "source": [
    "graph2_df['length'].value_counts().plot.line()"
   ]
  },
  {
   "cell_type": "markdown",
   "metadata": {},
   "source": [
    "# TEMP TEST"
   ]
  },
  {
   "cell_type": "code",
   "execution_count": null,
   "metadata": {},
   "outputs": [],
   "source": [
    "str_cols = train_df.select_dtypes('string').columns\n",
    "\n",
    "str_cols"
   ]
  },
  {
   "cell_type": "code",
   "execution_count": null,
   "metadata": {},
   "outputs": [],
   "source": [
    "from sklearn.linear_model import LinearRegression\n",
    "from sklearn.preprocessing import LabelEncoder\n",
    "\n",
    "le = LabelEncoder()\n",
    "\n",
    "train_y = train_df[\"Severity\"]\n",
    "train_x = train_df.drop(\"Severity\", axis=1)\n",
    "test_x = test_df.drop(\"ID\", axis=1)"
   ]
  },
  {
   "cell_type": "code",
   "execution_count": null,
   "metadata": {},
   "outputs": [],
   "source": [
    "train_x[str_cols] = train_x[str_cols].apply(le.fit_transform)\n",
    "\n",
    "test_x[str_cols] = test_x[str_cols].apply(le.fit_transform)\n",
    "\n",
    "lr = LinearRegression()\n",
    "\n",
    "model = lr.fit(train_x, train_y)\n",
    "\n",
    "pred = model.predict(test_x)"
   ]
  },
  {
   "cell_type": "code",
   "execution_count": null,
   "metadata": {},
   "outputs": [],
   "source": [
    "pred = np.around(pred)\n",
    "\n",
    "pred"
   ]
  },
  {
   "cell_type": "code",
   "execution_count": null,
   "metadata": {},
   "outputs": [],
   "source": [
    "sub = pd.concat([test_df, pd.DataFrame(pred, columns=[\"Severity\"])], axis=1)\n",
    "\n",
    "sub = sub[[\"ID\", \"Severity\"]]"
   ]
  },
  {
   "cell_type": "code",
   "execution_count": null,
   "metadata": {},
   "outputs": [],
   "source": [
    "sub.to_csv(\"submission.csv\", index=False)"
   ]
  }
 ],
 "metadata": {
  "interpreter": {
   "hash": "6097a8e08a96489a04031c5d57917e01770b15caee1c93b0713258b27ef461d0"
  },
  "kernelspec": {
   "display_name": "Python 3.8.2 64-bit ('venv': venv)",
   "language": "python",
   "name": "python3"
  },
  "language_info": {
   "codemirror_mode": {
    "name": "ipython",
    "version": 3
   },
   "file_extension": ".py",
   "mimetype": "text/x-python",
   "name": "python",
   "nbconvert_exporter": "python",
   "pygments_lexer": "ipython3",
   "version": "3.8.2"
  },
  "orig_nbformat": 4
 },
 "nbformat": 4,
 "nbformat_minor": 2
}
